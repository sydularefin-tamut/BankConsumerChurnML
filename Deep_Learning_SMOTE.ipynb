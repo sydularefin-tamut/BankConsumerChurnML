{
 "cells": [
  {
   "cell_type": "code",
   "execution_count": 1,
   "metadata": {
    "execution": {
     "iopub.execute_input": "2022-11-28T00:34:07.063716Z",
     "iopub.status.busy": "2022-11-28T00:34:07.063716Z",
     "iopub.status.idle": "2022-11-28T00:34:18.432435Z",
     "shell.execute_reply": "2022-11-28T00:34:18.431497Z",
     "shell.execute_reply.started": "2022-11-28T00:34:07.063716Z"
    },
    "tags": []
   },
   "outputs": [
    {
     "name": "stdout",
     "output_type": "stream",
     "text": [
      "WARNING:tensorflow:From c:\\Users\\mkahs\\Repository\\Nishat_CHURN\\.venv\\lib\\site-packages\\keras\\src\\losses.py:2976: The name tf.losses.sparse_softmax_cross_entropy is deprecated. Please use tf.compat.v1.losses.sparse_softmax_cross_entropy instead.\n",
      "\n"
     ]
    }
   ],
   "source": [
    "import os\n",
    "import pandas as pd\n",
    "import numpy as np\n",
    "import joblib\n",
    "\n",
    "# To remove these warnings : \"Your kernel may have been built without NUMA support.\"\n",
    "#   run these 2 lines before importing tensorflow\n",
    "os.environ['TF_CPP_MIN_LOG_LEVEL'] = '1'        # or any {'0', '1', '2', '3'}\n",
    "\n",
    "import tensorflow as tf \n",
    "random_state = 10\n",
    "np.random.seed(random_state)\n",
    "tf.random.set_seed(random_state)\n",
    "\n",
    "# store elements as dictionary keys and their counts as dictionary values\n",
    "from collections import Counter\n",
    "\n",
    "# scikit-learn\n",
    "from sklearn.model_selection import train_test_split, StratifiedKFold, RandomizedSearchCV\n",
    "\n",
    "from sklearn.preprocessing import MinMaxScaler, OneHotEncoder\n",
    "from sklearn.compose import make_column_transformer\n",
    "\n",
    "# Classification metrics\n",
    "from sklearn.metrics import confusion_matrix, classification_report, accuracy_score\n",
    "\n",
    "# Function for creating model pipelines - imblearn\n",
    "from imblearn.pipeline import make_pipeline as imbl_pipe\n",
    "\n",
    "# Over-sampling using SMOTE\n",
    "from imblearn.over_sampling import SMOTE\n",
    "\n",
    "# SciKeras\n",
    "from scikeras.wrappers import KerasClassifier"
   ]
  },
  {
   "cell_type": "markdown",
   "metadata": {},
   "source": [
    "## Load Analytical Base Table"
   ]
  },
  {
   "cell_type": "code",
   "execution_count": 2,
   "metadata": {
    "execution": {
     "iopub.execute_input": "2022-11-28T00:34:18.434436Z",
     "iopub.status.busy": "2022-11-28T00:34:18.434436Z",
     "iopub.status.idle": "2022-11-28T00:34:18.480487Z",
     "shell.execute_reply": "2022-11-28T00:34:18.479488Z",
     "shell.execute_reply.started": "2022-11-28T00:34:18.434436Z"
    },
    "scrolled": true,
    "tags": []
   },
   "outputs": [
    {
     "name": "stdout",
     "output_type": "stream",
     "text": [
      "Dataframe dimensions: (15926, 11)\n"
     ]
    },
    {
     "data": {
      "text/html": [
       "<div>\n",
       "<style scoped>\n",
       "    .dataframe tbody tr th:only-of-type {\n",
       "        vertical-align: middle;\n",
       "    }\n",
       "\n",
       "    .dataframe tbody tr th {\n",
       "        vertical-align: top;\n",
       "    }\n",
       "\n",
       "    .dataframe thead th {\n",
       "        text-align: right;\n",
       "    }\n",
       "</style>\n",
       "<table border=\"1\" class=\"dataframe\">\n",
       "  <thead>\n",
       "    <tr style=\"text-align: right;\">\n",
       "      <th></th>\n",
       "      <th>CreditScore</th>\n",
       "      <th>Geography</th>\n",
       "      <th>Gender</th>\n",
       "      <th>Age</th>\n",
       "      <th>Tenure</th>\n",
       "      <th>Balance</th>\n",
       "      <th>NumOfProducts</th>\n",
       "      <th>HasCrCard</th>\n",
       "      <th>IsActiveMember</th>\n",
       "      <th>EstimatedSalary</th>\n",
       "      <th>Exited</th>\n",
       "    </tr>\n",
       "  </thead>\n",
       "  <tbody>\n",
       "    <tr>\n",
       "      <th>0</th>\n",
       "      <td>619</td>\n",
       "      <td>0</td>\n",
       "      <td>0</td>\n",
       "      <td>42</td>\n",
       "      <td>2</td>\n",
       "      <td>0.00</td>\n",
       "      <td>1</td>\n",
       "      <td>1</td>\n",
       "      <td>1</td>\n",
       "      <td>101348.88</td>\n",
       "      <td>1</td>\n",
       "    </tr>\n",
       "    <tr>\n",
       "      <th>1</th>\n",
       "      <td>608</td>\n",
       "      <td>1</td>\n",
       "      <td>0</td>\n",
       "      <td>41</td>\n",
       "      <td>1</td>\n",
       "      <td>83807.86</td>\n",
       "      <td>1</td>\n",
       "      <td>0</td>\n",
       "      <td>1</td>\n",
       "      <td>112542.58</td>\n",
       "      <td>0</td>\n",
       "    </tr>\n",
       "    <tr>\n",
       "      <th>2</th>\n",
       "      <td>502</td>\n",
       "      <td>0</td>\n",
       "      <td>0</td>\n",
       "      <td>42</td>\n",
       "      <td>8</td>\n",
       "      <td>159660.80</td>\n",
       "      <td>3</td>\n",
       "      <td>1</td>\n",
       "      <td>0</td>\n",
       "      <td>113931.57</td>\n",
       "      <td>1</td>\n",
       "    </tr>\n",
       "    <tr>\n",
       "      <th>3</th>\n",
       "      <td>699</td>\n",
       "      <td>0</td>\n",
       "      <td>0</td>\n",
       "      <td>39</td>\n",
       "      <td>1</td>\n",
       "      <td>0.00</td>\n",
       "      <td>2</td>\n",
       "      <td>0</td>\n",
       "      <td>0</td>\n",
       "      <td>93826.63</td>\n",
       "      <td>0</td>\n",
       "    </tr>\n",
       "    <tr>\n",
       "      <th>4</th>\n",
       "      <td>850</td>\n",
       "      <td>1</td>\n",
       "      <td>0</td>\n",
       "      <td>43</td>\n",
       "      <td>2</td>\n",
       "      <td>125510.82</td>\n",
       "      <td>1</td>\n",
       "      <td>1</td>\n",
       "      <td>1</td>\n",
       "      <td>79084.10</td>\n",
       "      <td>0</td>\n",
       "    </tr>\n",
       "  </tbody>\n",
       "</table>\n",
       "</div>"
      ],
      "text/plain": [
       "   CreditScore  Geography  Gender  Age  Tenure    Balance  NumOfProducts  \\\n",
       "0          619          0       0   42       2       0.00              1   \n",
       "1          608          1       0   41       1   83807.86              1   \n",
       "2          502          0       0   42       8  159660.80              3   \n",
       "3          699          0       0   39       1       0.00              2   \n",
       "4          850          1       0   43       2  125510.82              1   \n",
       "\n",
       "   HasCrCard  IsActiveMember  EstimatedSalary  Exited  \n",
       "0          1               1        101348.88       1  \n",
       "1          0               1        112542.58       0  \n",
       "2          1               0        113931.57       1  \n",
       "3          0               0         93826.63       0  \n",
       "4          1               1         79084.10       0  "
      ]
     },
     "execution_count": 2,
     "metadata": {},
     "output_type": "execute_result"
    }
   ],
   "source": [
    "# Load the dataset\n",
    "abt = pd.read_csv(\"SMOTE_DATA.csv\")\n",
    "print(f\"Dataframe dimensions: {abt.shape}\")\n",
    "abt.head()"
   ]
  },
  {
   "cell_type": "markdown",
   "metadata": {},
   "source": [
    "# Models Training"
   ]
  },
  {
   "cell_type": "markdown",
   "metadata": {},
   "source": [
    "Let's start by splitting our dataframe into separate objects:\n",
    "\n",
    "* **y** for the target varibale\n",
    "\n",
    "* **X** for the input features\n",
    "\n",
    "\n"
   ]
  },
  {
   "cell_type": "markdown",
   "metadata": {},
   "source": [
    "### Separate dataframe into separate object"
   ]
  },
  {
   "cell_type": "code",
   "execution_count": 3,
   "metadata": {
    "execution": {
     "iopub.execute_input": "2022-11-28T00:34:18.482495Z",
     "iopub.status.busy": "2022-11-28T00:34:18.481491Z",
     "iopub.status.idle": "2022-11-28T00:34:18.495011Z",
     "shell.execute_reply": "2022-11-28T00:34:18.495011Z",
     "shell.execute_reply.started": "2022-11-28T00:34:18.482495Z"
    },
    "tags": []
   },
   "outputs": [
    {
     "name": "stdout",
     "output_type": "stream",
     "text": [
      "(15926, 10) (15926,)\n"
     ]
    }
   ],
   "source": [
    "# Object for target variable\n",
    "y = abt.Exited\n",
    "\n",
    "# object for input features\n",
    "X = abt.drop(['Exited'], axis=1)\n",
    "\n",
    "# display shapes of X and y\n",
    "print(X.shape, y.shape)"
   ]
  },
  {
   "cell_type": "code",
   "execution_count": 4,
   "metadata": {
    "execution": {
     "iopub.execute_input": "2022-11-28T00:34:18.498015Z",
     "iopub.status.busy": "2022-11-28T00:34:18.497013Z",
     "iopub.status.idle": "2022-11-28T00:34:18.511012Z",
     "shell.execute_reply": "2022-11-28T00:34:18.511012Z",
     "shell.execute_reply.started": "2022-11-28T00:34:18.498015Z"
    },
    "tags": []
   },
   "outputs": [
    {
     "data": {
      "text/plain": [
       "['CreditScore',\n",
       " 'Geography',\n",
       " 'Gender',\n",
       " 'Age',\n",
       " 'Tenure',\n",
       " 'Balance',\n",
       " 'NumOfProducts',\n",
       " 'HasCrCard',\n",
       " 'IsActiveMember',\n",
       " 'EstimatedSalary']"
      ]
     },
     "execution_count": 4,
     "metadata": {},
     "output_type": "execute_result"
    }
   ],
   "source": [
    "# List numerical features\n",
    "num_columns = X.select_dtypes(include='number').columns.tolist()\n",
    "num_columns"
   ]
  },
  {
   "cell_type": "code",
   "execution_count": 5,
   "metadata": {
    "execution": {
     "iopub.execute_input": "2022-11-28T00:34:18.512009Z",
     "iopub.status.busy": "2022-11-28T00:34:18.512009Z",
     "iopub.status.idle": "2022-11-28T00:34:18.527008Z",
     "shell.execute_reply": "2022-11-28T00:34:18.527008Z",
     "shell.execute_reply.started": "2022-11-28T00:34:18.512009Z"
    },
    "tags": []
   },
   "outputs": [
    {
     "data": {
      "text/plain": [
       "[]"
      ]
     },
     "execution_count": 5,
     "metadata": {},
     "output_type": "execute_result"
    }
   ],
   "source": [
    "# List categorical features\n",
    "cat_columns = X.select_dtypes(include='object').columns.tolist()\n",
    "cat_columns"
   ]
  },
  {
   "cell_type": "code",
   "execution_count": 6,
   "metadata": {
    "execution": {
     "iopub.execute_input": "2022-11-28T00:34:18.529014Z",
     "iopub.status.busy": "2022-11-28T00:34:18.529014Z",
     "iopub.status.idle": "2022-11-28T00:34:18.543736Z",
     "shell.execute_reply": "2022-11-28T00:34:18.542730Z",
     "shell.execute_reply.started": "2022-11-28T00:34:18.529014Z"
    },
    "tags": []
   },
   "outputs": [],
   "source": [
    "def class_count(a):\n",
    "    counter=Counter(a)\n",
    "    kv=[list(counter.keys()),list(counter.values())]\n",
    "    dff = pd.DataFrame(np.array(kv).T, columns=['Exited','Count'])\n",
    "    dff['Count'] = dff['Count'].astype('int64')\n",
    "    dff['%'] = round(dff['Count'] / a.shape[0] * 100, 2)\n",
    "    return dff.sort_values('Count',ascending=False)"
   ]
  },
  {
   "cell_type": "code",
   "execution_count": 7,
   "metadata": {
    "execution": {
     "iopub.execute_input": "2022-11-28T00:34:18.544736Z",
     "iopub.status.busy": "2022-11-28T00:34:18.544736Z",
     "iopub.status.idle": "2022-11-28T00:34:18.575777Z",
     "shell.execute_reply": "2022-11-28T00:34:18.574775Z",
     "shell.execute_reply.started": "2022-11-28T00:34:18.544736Z"
    },
    "tags": []
   },
   "outputs": [
    {
     "data": {
      "text/html": [
       "<div>\n",
       "<style scoped>\n",
       "    .dataframe tbody tr th:only-of-type {\n",
       "        vertical-align: middle;\n",
       "    }\n",
       "\n",
       "    .dataframe tbody tr th {\n",
       "        vertical-align: top;\n",
       "    }\n",
       "\n",
       "    .dataframe thead th {\n",
       "        text-align: right;\n",
       "    }\n",
       "</style>\n",
       "<table border=\"1\" class=\"dataframe\">\n",
       "  <thead>\n",
       "    <tr style=\"text-align: right;\">\n",
       "      <th></th>\n",
       "      <th>Exited</th>\n",
       "      <th>Count</th>\n",
       "      <th>%</th>\n",
       "    </tr>\n",
       "  </thead>\n",
       "  <tbody>\n",
       "    <tr>\n",
       "      <th>0</th>\n",
       "      <td>1</td>\n",
       "      <td>7963</td>\n",
       "      <td>50.0</td>\n",
       "    </tr>\n",
       "    <tr>\n",
       "      <th>1</th>\n",
       "      <td>0</td>\n",
       "      <td>7963</td>\n",
       "      <td>50.0</td>\n",
       "    </tr>\n",
       "  </tbody>\n",
       "</table>\n",
       "</div>"
      ],
      "text/plain": [
       "   Exited  Count     %\n",
       "0       1   7963  50.0\n",
       "1       0   7963  50.0"
      ]
     },
     "execution_count": 7,
     "metadata": {},
     "output_type": "execute_result"
    }
   ],
   "source": [
    "class_count(y)"
   ]
  },
  {
   "cell_type": "markdown",
   "metadata": {},
   "source": [
    "## Create a Train Test Split\n"
   ]
  },
  {
   "cell_type": "markdown",
   "metadata": {},
   "source": [
    "We will continue with splitting our data into separate training and test sets.\n",
    "\n",
    "* 30% of observations will be set aside for the test set\n",
    "\n",
    "* the rest, 70%, will be used as the training set"
   ]
  },
  {
   "cell_type": "code",
   "execution_count": 8,
   "metadata": {
    "execution": {
     "iopub.execute_input": "2022-11-28T00:34:18.576777Z",
     "iopub.status.busy": "2022-11-28T00:34:18.576777Z",
     "iopub.status.idle": "2022-11-28T00:34:18.591301Z",
     "shell.execute_reply": "2022-11-28T00:34:18.590291Z",
     "shell.execute_reply.started": "2022-11-28T00:34:18.576777Z"
    },
    "tags": []
   },
   "outputs": [
    {
     "name": "stdout",
     "output_type": "stream",
     "text": [
      "11148 4778 11148 4778\n"
     ]
    }
   ],
   "source": [
    "# Split X and y into train and test sets\n",
    "X_train, X_test, y_train, y_test = train_test_split(X, y,\n",
    "                                                    test_size=0.3,\n",
    "                                                    random_state=random_state,\n",
    "                                                    stratify=abt.Exited)\n",
    "\n",
    "# Print number of observations in X_train, X_test, y_train, and y_test\n",
    "print(len(X_train), len(X_test), len(y_train), len(y_test))"
   ]
  },
  {
   "cell_type": "code",
   "execution_count": 9,
   "metadata": {
    "execution": {
     "iopub.execute_input": "2022-11-28T00:34:18.592300Z",
     "iopub.status.busy": "2022-11-28T00:34:18.592300Z",
     "iopub.status.idle": "2022-11-28T00:34:18.606328Z",
     "shell.execute_reply": "2022-11-28T00:34:18.606328Z",
     "shell.execute_reply.started": "2022-11-28T00:34:18.592300Z"
    },
    "scrolled": true,
    "tags": []
   },
   "outputs": [
    {
     "name": "stdout",
     "output_type": "stream",
     "text": [
      "<class 'pandas.core.frame.DataFrame'>\n",
      "Index: 11148 entries, 14044 to 9999\n",
      "Data columns (total 10 columns):\n",
      " #   Column           Non-Null Count  Dtype  \n",
      "---  ------           --------------  -----  \n",
      " 0   CreditScore      11148 non-null  int64  \n",
      " 1   Geography        11148 non-null  int64  \n",
      " 2   Gender           11148 non-null  int64  \n",
      " 3   Age              11148 non-null  int64  \n",
      " 4   Tenure           11148 non-null  int64  \n",
      " 5   Balance          11148 non-null  float64\n",
      " 6   NumOfProducts    11148 non-null  int64  \n",
      " 7   HasCrCard        11148 non-null  int64  \n",
      " 8   IsActiveMember   11148 non-null  int64  \n",
      " 9   EstimatedSalary  11148 non-null  float64\n",
      "dtypes: float64(2), int64(8)\n",
      "memory usage: 958.0 KB\n"
     ]
    }
   ],
   "source": [
    "X_train.info()"
   ]
  },
  {
   "cell_type": "code",
   "execution_count": 10,
   "metadata": {
    "execution": {
     "iopub.execute_input": "2022-11-28T00:34:18.609303Z",
     "iopub.status.busy": "2022-11-28T00:34:18.609303Z",
     "iopub.status.idle": "2022-11-28T00:34:18.623299Z",
     "shell.execute_reply": "2022-11-28T00:34:18.622330Z",
     "shell.execute_reply.started": "2022-11-28T00:34:18.609303Z"
    }
   },
   "outputs": [],
   "source": [
    "# Get a Numpy representation of the DataFrame\n",
    "X_train = X_train.values\n",
    "X_test = X_test.values"
   ]
  },
  {
   "cell_type": "markdown",
   "metadata": {},
   "source": [
    "## Pre-processing Pipeline"
   ]
  },
  {
   "cell_type": "markdown",
   "metadata": {},
   "source": [
    "### Scale numerical data and encode categorical data\n",
    "Construct a pre-processing pipeline from the given transformers: MinMaxScaler and OneHotEncoder"
   ]
  },
  {
   "cell_type": "markdown",
   "metadata": {},
   "source": [
    "Create lists of indexes from the list of column names\n",
    "\n",
    "Need to be numeric not string to specify columns name in column transformer"
   ]
  },
  {
   "cell_type": "code",
   "execution_count": 11,
   "metadata": {
    "execution": {
     "iopub.execute_input": "2022-11-28T00:34:18.624332Z",
     "iopub.status.busy": "2022-11-28T00:34:18.624332Z",
     "iopub.status.idle": "2022-11-28T00:34:18.639301Z",
     "shell.execute_reply": "2022-11-28T00:34:18.638328Z",
     "shell.execute_reply.started": "2022-11-28T00:34:18.624332Z"
    },
    "tags": []
   },
   "outputs": [
    {
     "name": "stdout",
     "output_type": "stream",
     "text": [
      "[0, 1, 2, 3, 4, 5, 6, 7, 8, 9]\n"
     ]
    }
   ],
   "source": [
    "num_features = [] \n",
    "\n",
    "for i in num_columns:\n",
    "    location = X.columns.get_loc(i)\n",
    "    num_features.append(location)\n",
    "print(num_features)  "
   ]
  },
  {
   "cell_type": "code",
   "execution_count": 12,
   "metadata": {
    "execution": {
     "iopub.execute_input": "2022-11-28T00:34:18.640297Z",
     "iopub.status.busy": "2022-11-28T00:34:18.639301Z",
     "iopub.status.idle": "2022-11-28T00:34:18.655303Z",
     "shell.execute_reply": "2022-11-28T00:34:18.654337Z",
     "shell.execute_reply.started": "2022-11-28T00:34:18.640297Z"
    },
    "tags": []
   },
   "outputs": [
    {
     "name": "stdout",
     "output_type": "stream",
     "text": [
      "[]\n"
     ]
    }
   ],
   "source": [
    "cat_features = []\n",
    "\n",
    "for i in cat_columns:\n",
    "    location = X.columns.get_loc(i)\n",
    "    cat_features.append(location)\n",
    "print(cat_features)  "
   ]
  },
  {
   "cell_type": "code",
   "execution_count": 13,
   "metadata": {
    "execution": {
     "iopub.execute_input": "2022-11-28T00:34:18.656303Z",
     "iopub.status.busy": "2022-11-28T00:34:18.656303Z",
     "iopub.status.idle": "2022-11-28T00:34:18.671301Z",
     "shell.execute_reply": "2022-11-28T00:34:18.670301Z",
     "shell.execute_reply.started": "2022-11-28T00:34:18.656303Z"
    },
    "tags": []
   },
   "outputs": [
    {
     "data": {
      "text/html": [
       "<style>#sk-container-id-1 {color: black;}#sk-container-id-1 pre{padding: 0;}#sk-container-id-1 div.sk-toggleable {background-color: white;}#sk-container-id-1 label.sk-toggleable__label {cursor: pointer;display: block;width: 100%;margin-bottom: 0;padding: 0.3em;box-sizing: border-box;text-align: center;}#sk-container-id-1 label.sk-toggleable__label-arrow:before {content: \"▸\";float: left;margin-right: 0.25em;color: #696969;}#sk-container-id-1 label.sk-toggleable__label-arrow:hover:before {color: black;}#sk-container-id-1 div.sk-estimator:hover label.sk-toggleable__label-arrow:before {color: black;}#sk-container-id-1 div.sk-toggleable__content {max-height: 0;max-width: 0;overflow: hidden;text-align: left;background-color: #f0f8ff;}#sk-container-id-1 div.sk-toggleable__content pre {margin: 0.2em;color: black;border-radius: 0.25em;background-color: #f0f8ff;}#sk-container-id-1 input.sk-toggleable__control:checked~div.sk-toggleable__content {max-height: 200px;max-width: 100%;overflow: auto;}#sk-container-id-1 input.sk-toggleable__control:checked~label.sk-toggleable__label-arrow:before {content: \"▾\";}#sk-container-id-1 div.sk-estimator input.sk-toggleable__control:checked~label.sk-toggleable__label {background-color: #d4ebff;}#sk-container-id-1 div.sk-label input.sk-toggleable__control:checked~label.sk-toggleable__label {background-color: #d4ebff;}#sk-container-id-1 input.sk-hidden--visually {border: 0;clip: rect(1px 1px 1px 1px);clip: rect(1px, 1px, 1px, 1px);height: 1px;margin: -1px;overflow: hidden;padding: 0;position: absolute;width: 1px;}#sk-container-id-1 div.sk-estimator {font-family: monospace;background-color: #f0f8ff;border: 1px dotted black;border-radius: 0.25em;box-sizing: border-box;margin-bottom: 0.5em;}#sk-container-id-1 div.sk-estimator:hover {background-color: #d4ebff;}#sk-container-id-1 div.sk-parallel-item::after {content: \"\";width: 100%;border-bottom: 1px solid gray;flex-grow: 1;}#sk-container-id-1 div.sk-label:hover label.sk-toggleable__label {background-color: #d4ebff;}#sk-container-id-1 div.sk-serial::before {content: \"\";position: absolute;border-left: 1px solid gray;box-sizing: border-box;top: 0;bottom: 0;left: 50%;z-index: 0;}#sk-container-id-1 div.sk-serial {display: flex;flex-direction: column;align-items: center;background-color: white;padding-right: 0.2em;padding-left: 0.2em;position: relative;}#sk-container-id-1 div.sk-item {position: relative;z-index: 1;}#sk-container-id-1 div.sk-parallel {display: flex;align-items: stretch;justify-content: center;background-color: white;position: relative;}#sk-container-id-1 div.sk-item::before, #sk-container-id-1 div.sk-parallel-item::before {content: \"\";position: absolute;border-left: 1px solid gray;box-sizing: border-box;top: 0;bottom: 0;left: 50%;z-index: -1;}#sk-container-id-1 div.sk-parallel-item {display: flex;flex-direction: column;z-index: 1;position: relative;background-color: white;}#sk-container-id-1 div.sk-parallel-item:first-child::after {align-self: flex-end;width: 50%;}#sk-container-id-1 div.sk-parallel-item:last-child::after {align-self: flex-start;width: 50%;}#sk-container-id-1 div.sk-parallel-item:only-child::after {width: 0;}#sk-container-id-1 div.sk-dashed-wrapped {border: 1px dashed gray;margin: 0 0.4em 0.5em 0.4em;box-sizing: border-box;padding-bottom: 0.4em;background-color: white;}#sk-container-id-1 div.sk-label label {font-family: monospace;font-weight: bold;display: inline-block;line-height: 1.2em;}#sk-container-id-1 div.sk-label-container {text-align: center;}#sk-container-id-1 div.sk-container {/* jupyter's `normalize.less` sets `[hidden] { display: none; }` but bootstrap.min.css set `[hidden] { display: none !important; }` so we also need the `!important` here to be able to override the default hidden behavior on the sphinx rendered scikit-learn.org. See: https://github.com/scikit-learn/scikit-learn/issues/21755 */display: inline-block !important;position: relative;}#sk-container-id-1 div.sk-text-repr-fallback {display: none;}</style><div id=\"sk-container-id-1\" class=\"sk-top-container\"><div class=\"sk-text-repr-fallback\"><pre>ColumnTransformer(transformers=[(&#x27;minmaxscaler&#x27;, MinMaxScaler(),\n",
       "                                 [0, 3, 4, 5, 6, 7, 8, 9]),\n",
       "                                (&#x27;onehotencoder&#x27;, OneHotEncoder(sparse=False),\n",
       "                                 [1, 2])])</pre><b>In a Jupyter environment, please rerun this cell to show the HTML representation or trust the notebook. <br />On GitHub, the HTML representation is unable to render, please try loading this page with nbviewer.org.</b></div><div class=\"sk-container\" hidden><div class=\"sk-item sk-dashed-wrapped\"><div class=\"sk-label-container\"><div class=\"sk-label sk-toggleable\"><input class=\"sk-toggleable__control sk-hidden--visually\" id=\"sk-estimator-id-1\" type=\"checkbox\" ><label for=\"sk-estimator-id-1\" class=\"sk-toggleable__label sk-toggleable__label-arrow\">ColumnTransformer</label><div class=\"sk-toggleable__content\"><pre>ColumnTransformer(transformers=[(&#x27;minmaxscaler&#x27;, MinMaxScaler(),\n",
       "                                 [0, 3, 4, 5, 6, 7, 8, 9]),\n",
       "                                (&#x27;onehotencoder&#x27;, OneHotEncoder(sparse=False),\n",
       "                                 [1, 2])])</pre></div></div></div><div class=\"sk-parallel\"><div class=\"sk-parallel-item\"><div class=\"sk-item\"><div class=\"sk-label-container\"><div class=\"sk-label sk-toggleable\"><input class=\"sk-toggleable__control sk-hidden--visually\" id=\"sk-estimator-id-2\" type=\"checkbox\" ><label for=\"sk-estimator-id-2\" class=\"sk-toggleable__label sk-toggleable__label-arrow\">minmaxscaler</label><div class=\"sk-toggleable__content\"><pre>[0, 3, 4, 5, 6, 7, 8, 9]</pre></div></div></div><div class=\"sk-serial\"><div class=\"sk-item\"><div class=\"sk-estimator sk-toggleable\"><input class=\"sk-toggleable__control sk-hidden--visually\" id=\"sk-estimator-id-3\" type=\"checkbox\" ><label for=\"sk-estimator-id-3\" class=\"sk-toggleable__label sk-toggleable__label-arrow\">MinMaxScaler</label><div class=\"sk-toggleable__content\"><pre>MinMaxScaler()</pre></div></div></div></div></div></div><div class=\"sk-parallel-item\"><div class=\"sk-item\"><div class=\"sk-label-container\"><div class=\"sk-label sk-toggleable\"><input class=\"sk-toggleable__control sk-hidden--visually\" id=\"sk-estimator-id-4\" type=\"checkbox\" ><label for=\"sk-estimator-id-4\" class=\"sk-toggleable__label sk-toggleable__label-arrow\">onehotencoder</label><div class=\"sk-toggleable__content\"><pre>[1, 2]</pre></div></div></div><div class=\"sk-serial\"><div class=\"sk-item\"><div class=\"sk-estimator sk-toggleable\"><input class=\"sk-toggleable__control sk-hidden--visually\" id=\"sk-estimator-id-5\" type=\"checkbox\" ><label for=\"sk-estimator-id-5\" class=\"sk-toggleable__label sk-toggleable__label-arrow\">OneHotEncoder</label><div class=\"sk-toggleable__content\"><pre>OneHotEncoder(sparse=False)</pre></div></div></div></div></div></div></div></div></div></div>"
      ],
      "text/plain": [
       "ColumnTransformer(transformers=[('minmaxscaler', MinMaxScaler(),\n",
       "                                 [0, 3, 4, 5, 6, 7, 8, 9]),\n",
       "                                ('onehotencoder', OneHotEncoder(sparse=False),\n",
       "                                 [1, 2])])"
      ]
     },
     "execution_count": 13,
     "metadata": {},
     "output_type": "execute_result"
    }
   ],
   "source": [
    "# # Define column transformer\n",
    "# # Need to be numeric not string to specify columns name \n",
    "# preprocess = make_column_transformer(\n",
    "#     (MinMaxScaler(), num_features),\n",
    "#     (OneHotEncoder(sparse=False), cat_features)\n",
    "# )\n",
    "# preprocess"
   ]
  },
  {
   "cell_type": "markdown",
   "metadata": {},
   "source": [
    "## Create a Deep Learning Model"
   ]
  },
  {
   "cell_type": "markdown",
   "metadata": {},
   "source": [
    "We are going to use SciKeras.  \n",
    "It makes possible to use Keras/TensorFlow with sklearn by providing a wrapper around Keras that has an Scikit-Learn interface."
   ]
  },
  {
   "cell_type": "markdown",
   "metadata": {},
   "source": [
    "#### Implement the Scikit-Learn classifier interface."
   ]
  },
  {
   "cell_type": "code",
   "execution_count": 13,
   "metadata": {
    "execution": {
     "iopub.execute_input": "2022-11-28T00:34:18.672302Z",
     "iopub.status.busy": "2022-11-28T00:34:18.672302Z",
     "iopub.status.idle": "2022-11-28T00:34:18.687347Z",
     "shell.execute_reply": "2022-11-28T00:34:18.686343Z",
     "shell.execute_reply.started": "2022-11-28T00:34:18.672302Z"
    },
    "scrolled": true,
    "tags": []
   },
   "outputs": [],
   "source": [
    "# Import model build function \"get_clf\"from the script \"keras_model.py\"\n",
    "import keras_model as km"
   ]
  },
  {
   "cell_type": "code",
   "execution_count": 14,
   "metadata": {
    "execution": {
     "iopub.execute_input": "2022-11-28T00:34:18.688309Z",
     "iopub.status.busy": "2022-11-28T00:34:18.688309Z",
     "iopub.status.idle": "2022-11-28T00:34:18.702827Z",
     "shell.execute_reply": "2022-11-28T00:34:18.701865Z",
     "shell.execute_reply.started": "2022-11-28T00:34:18.688309Z"
    },
    "tags": []
   },
   "outputs": [],
   "source": [
    "from tensorflow.keras.metrics import Accuracy, Recall\n",
    "from tensorflow.keras.losses import BinaryCrossentropy"
   ]
  },
  {
   "cell_type": "code",
   "execution_count": 15,
   "metadata": {
    "execution": {
     "iopub.execute_input": "2022-11-28T00:34:18.703826Z",
     "iopub.status.busy": "2022-11-28T00:34:18.702827Z",
     "iopub.status.idle": "2022-11-28T00:34:18.718873Z",
     "shell.execute_reply": "2022-11-28T00:34:18.717866Z",
     "shell.execute_reply.started": "2022-11-28T00:34:18.703826Z"
    },
    "tags": []
   },
   "outputs": [],
   "source": [
    "clf = KerasClassifier(\n",
    "    model=km.get_clf,\n",
    "    loss=BinaryCrossentropy,\n",
    "    metrics=[Accuracy, Recall],\n",
    "    hidden_layer_sizes=(64, 32,),\n",
    "    dropout=0.45,\n",
    "    batch_size=64,\n",
    "    optimizer='adam',\n",
    "    optimizer__learning_rate=0.0021,\n",
    "    epochs=8,\n",
    "    verbose=0,\n",
    "    random_state=random_state,  \n",
    ")"
   ]
  },
  {
   "cell_type": "markdown",
   "metadata": {},
   "source": [
    "### Build Model Pipeline with SMOTE\n",
    "\n",
    "* We are going to use the Pipeline from the imblearn package in place of scikit-learn Pipeline.\n",
    "\n",
    "* It takes care automatically to re-sample when called fit() on the pipeline, and does not re-sample test data (when called transform() or predict())."
   ]
  },
  {
   "cell_type": "code",
   "execution_count": 16,
   "metadata": {
    "execution": {
     "iopub.execute_input": "2022-11-28T00:34:18.719864Z",
     "iopub.status.busy": "2022-11-28T00:34:18.718873Z",
     "iopub.status.idle": "2022-11-28T00:34:18.734833Z",
     "shell.execute_reply": "2022-11-28T00:34:18.733828Z",
     "shell.execute_reply.started": "2022-11-28T00:34:18.719864Z"
    },
    "scrolled": true,
    "tags": []
   },
   "outputs": [],
   "source": [
    "# # Define model with pipeline\n",
    "# pipe = imbl_pipe(preprocess,\n",
    "#                   SMOTE(sampling_strategy='auto', random_state=random_state),\n",
    "#                   clf)\n",
    "# pipe"
   ]
  },
  {
   "cell_type": "code",
   "execution_count": 17,
   "metadata": {
    "execution": {
     "iopub.execute_input": "2022-11-28T00:34:18.735835Z",
     "iopub.status.busy": "2022-11-28T00:34:18.735835Z",
     "iopub.status.idle": "2022-11-28T00:34:27.158671Z",
     "shell.execute_reply": "2022-11-28T00:34:27.157671Z",
     "shell.execute_reply.started": "2022-11-28T00:34:18.735835Z"
    },
    "tags": []
   },
   "outputs": [
    {
     "name": "stdout",
     "output_type": "stream",
     "text": [
      "WARNING:tensorflow:From c:\\Users\\mkahs\\Repository\\Nishat_CHURN\\.venv\\lib\\site-packages\\keras\\src\\backend.py:873: The name tf.get_default_graph is deprecated. Please use tf.compat.v1.get_default_graph instead.\n",
      "\n",
      "WARNING:tensorflow:From c:\\Users\\mkahs\\Repository\\Nishat_CHURN\\.venv\\lib\\site-packages\\keras\\src\\optimizers\\__init__.py:309: The name tf.train.Optimizer is deprecated. Please use tf.compat.v1.train.Optimizer instead.\n",
      "\n",
      "WARNING:tensorflow:From c:\\Users\\mkahs\\Repository\\Nishat_CHURN\\.venv\\lib\\site-packages\\keras\\src\\utils\\tf_utils.py:492: The name tf.ragged.RaggedTensorValue is deprecated. Please use tf.compat.v1.ragged.RaggedTensorValue instead.\n",
      "\n"
     ]
    },
    {
     "data": {
      "text/plain": [
       "0.5"
      ]
     },
     "execution_count": 17,
     "metadata": {},
     "output_type": "execute_result"
    }
   ],
   "source": [
    "clf.fit(X_train, y_train).score(X_test, y_test)"
   ]
  },
  {
   "cell_type": "code",
   "execution_count": 19,
   "metadata": {
    "execution": {
     "iopub.execute_input": "2022-11-28T00:34:27.159673Z",
     "iopub.status.busy": "2022-11-28T00:34:27.159673Z",
     "iopub.status.idle": "2022-11-28T00:34:27.190718Z",
     "shell.execute_reply": "2022-11-28T00:34:27.189677Z",
     "shell.execute_reply.started": "2022-11-28T00:34:27.159673Z"
    },
    "scrolled": true,
    "tags": []
   },
   "outputs": [
    {
     "data": {
      "text/plain": [
       "{'model': <function keras_model.get_clf(meta, hidden_layer_sizes, dropout)>,\n",
       " 'build_fn': None,\n",
       " 'warm_start': False,\n",
       " 'random_state': 10,\n",
       " 'optimizer': 'adam',\n",
       " 'loss': keras.src.losses.BinaryCrossentropy,\n",
       " 'metrics': [keras.src.metrics.accuracy_metrics.Accuracy,\n",
       "  keras.src.metrics.confusion_metrics.Recall],\n",
       " 'batch_size': 64,\n",
       " 'validation_batch_size': None,\n",
       " 'verbose': 0,\n",
       " 'callbacks': None,\n",
       " 'validation_split': 0.0,\n",
       " 'shuffle': True,\n",
       " 'run_eagerly': False,\n",
       " 'epochs': 8,\n",
       " 'hidden_layer_sizes': (64, 32),\n",
       " 'dropout': 0.45,\n",
       " 'optimizer__learning_rate': 0.0021,\n",
       " 'class_weight': None}"
      ]
     },
     "execution_count": 19,
     "metadata": {},
     "output_type": "execute_result"
    }
   ],
   "source": [
    "clf.get_params()"
   ]
  },
  {
   "cell_type": "markdown",
   "metadata": {},
   "source": [
    "## Hyperparameter Tuning"
   ]
  },
  {
   "cell_type": "markdown",
   "metadata": {
    "tags": []
   },
   "source": [
    "For hyperparameter tuning we will use sklearn's RandomizedSearch.\n",
    "\n",
    " - First we will define the search space.  \n",
    "- This is a dictionary where names are arguments to the model and values are distributions from which to draw samples. \n",
    "- To optimize some hyperparameters we will use scipy distributions for random sampling.\n"
   ]
  },
  {
   "cell_type": "code",
   "execution_count": 20,
   "metadata": {
    "execution": {
     "iopub.execute_input": "2022-11-28T00:34:27.191680Z",
     "iopub.status.busy": "2022-11-28T00:34:27.191680Z",
     "iopub.status.idle": "2022-11-28T00:34:27.206241Z",
     "shell.execute_reply": "2022-11-28T00:34:27.205239Z",
     "shell.execute_reply.started": "2022-11-28T00:34:27.191680Z"
    },
    "tags": []
   },
   "outputs": [],
   "source": [
    "# Distributions for random sampling\n",
    "from scipy.stats import uniform as sp_randFloat\n",
    "from scipy.stats import randint as sp_randInt"
   ]
  },
  {
   "cell_type": "code",
   "execution_count": 38,
   "metadata": {},
   "outputs": [
    {
     "name": "stdout",
     "output_type": "stream",
     "text": [
      "[0.47713206432667465, 0.4020751949359402, 0.4633648234926276, 0.4748803882538612, 0.44985070123025905, 0.4224796645530848, 0.4198062864759624, 0.47605307121989593, 0.41691108365625357, 0.40883398141740107]\n"
     ]
    }
   ],
   "source": [
    "import numpy as np\n",
    "from scipy.stats import uniform\n",
    "\n",
    "# Define the parameters for the uniform distribution\n",
    "loc = 0.4  # The lower bound for dropout\n",
    "scale = 0.1  # The range of dropout values\n",
    "\n",
    "# Number of dropout values you want in the list\n",
    "num_samples = 10  # You can adjust this as needed\n",
    "\n",
    "# Generate a list of dropout values sampled from a uniform distribution\n",
    "dropout_values = uniform(loc, scale).rvs(size=num_samples).tolist()\n",
    "\n",
    "# Print the list of dropout values\n",
    "print(dropout_values)"
   ]
  },
  {
   "cell_type": "code",
   "execution_count": 42,
   "metadata": {},
   "outputs": [
    {
     "name": "stdout",
     "output_type": "stream",
     "text": [
      "[0.002185359818367797, 0.0024533933461949363, 0.0015039482663279145, 0.0020121922633857766, 0.0023126209616521134, 0.0021125260668293884, 0.0022217553174317993, 0.0017918760681706332, 0.0024177741225129435, 0.0022145757833976903]\n"
     ]
    }
   ],
   "source": [
    "import numpy as np\n",
    "from scipy.stats import uniform\n",
    "\n",
    "# Define the parameters for the uniform distribution\n",
    "loc = 0.0015  # The lower bound for the values\n",
    "scale = 0.001  # The range of values (adjust this as needed)\n",
    "\n",
    "# Number of values you want in the list\n",
    "num_samples = 10  # You can adjust this as needed\n",
    "\n",
    "# Generate a list of values sampled from a uniform distribution\n",
    "values = uniform(loc, scale).rvs(size=num_samples).tolist()\n",
    "\n",
    "# Print the list of values\n",
    "print(values)"
   ]
  },
  {
   "cell_type": "code",
   "execution_count": 47,
   "metadata": {},
   "outputs": [
    {
     "data": {
      "text/plain": [
       "dict_keys(['model', 'build_fn', 'warm_start', 'random_state', 'optimizer', 'loss', 'metrics', 'batch_size', 'validation_batch_size', 'verbose', 'callbacks', 'validation_split', 'shuffle', 'run_eagerly', 'epochs', 'hidden_layer_sizes', 'dropout', 'optimizer__learning_rate', 'class_weight'])"
      ]
     },
     "execution_count": 47,
     "metadata": {},
     "output_type": "execute_result"
    }
   ],
   "source": [
    "clf.get_params().keys()"
   ]
  },
  {
   "cell_type": "code",
   "execution_count": 48,
   "metadata": {
    "execution": {
     "iopub.execute_input": "2022-11-28T00:34:27.207240Z",
     "iopub.status.busy": "2022-11-28T00:34:27.206241Z",
     "iopub.status.idle": "2022-11-28T00:34:27.221274Z",
     "shell.execute_reply": "2022-11-28T00:34:27.220242Z",
     "shell.execute_reply.started": "2022-11-28T00:34:27.207240Z"
    },
    "tags": []
   },
   "outputs": [],
   "source": [
    "# Define search space\n",
    "param_space = {\n",
    "    'epochs': [8,12,16],\n",
    "    'batch_size': [64, 128],\n",
    "    'dropout': [0.47713206432667465, 0.4020751949359402, 0.4633648234926276],\n",
    "    'hidden_layer_sizes': [(64,), (64, 32,)],\n",
    "    'optimizer__learning_rate': [0.002185359818367797, 0.0024533933461949363, 0.0015039482663279145]\n",
    "}"
   ]
  },
  {
   "cell_type": "code",
   "execution_count": 49,
   "metadata": {
    "execution": {
     "iopub.execute_input": "2022-11-28T04:50:04.852028Z",
     "iopub.status.busy": "2022-11-28T04:50:04.852028Z",
     "iopub.status.idle": "2022-11-28T04:50:04.865335Z",
     "shell.execute_reply": "2022-11-28T04:50:04.864314Z",
     "shell.execute_reply.started": "2022-11-28T04:50:04.852028Z"
    },
    "tags": []
   },
   "outputs": [],
   "source": [
    "# Use stratified cross-validation\n",
    "skf = StratifiedKFold(n_splits=5, shuffle=True, random_state=random_state)\n",
    "from sklearn.model_selection import GridSearchCV\n",
    "# Create the RandomizedSearchCV model \n",
    "# rsearch = RandomizedSearchCV(clf, \n",
    "rsearch = GridSearchCV(clf, \n",
    "                        param_space,                             \n",
    "                            scoring='f1_weighted', \n",
    "                            n_jobs=4, \n",
    "                            cv=skf)"
   ]
  },
  {
   "cell_type": "markdown",
   "metadata": {},
   "source": [
    "#### Train the model with RandomizedSearch"
   ]
  },
  {
   "cell_type": "code",
   "execution_count": 50,
   "metadata": {
    "execution": {
     "iopub.execute_input": "2022-11-28T04:50:16.614742Z",
     "iopub.status.busy": "2022-11-28T04:50:16.614742Z",
     "iopub.status.idle": "2022-11-28T06:44:49.155714Z",
     "shell.execute_reply": "2022-11-28T06:44:49.154711Z",
     "shell.execute_reply.started": "2022-11-28T04:50:16.614742Z"
    },
    "scrolled": true,
    "tags": []
   },
   "outputs": [
    {
     "name": "stderr",
     "output_type": "stream",
     "text": [
      "c:\\Users\\mkahs\\Repository\\Nishat_CHURN\\.venv\\lib\\site-packages\\joblib\\externals\\loky\\process_executor.py:752: UserWarning: A worker stopped while some jobs were given to the executor. This can be caused by a too short worker timeout or by a memory leak.\n",
      "  warnings.warn(\n"
     ]
    },
    {
     "data": {
      "text/html": [
       "<style>#sk-container-id-1 {color: black;}#sk-container-id-1 pre{padding: 0;}#sk-container-id-1 div.sk-toggleable {background-color: white;}#sk-container-id-1 label.sk-toggleable__label {cursor: pointer;display: block;width: 100%;margin-bottom: 0;padding: 0.3em;box-sizing: border-box;text-align: center;}#sk-container-id-1 label.sk-toggleable__label-arrow:before {content: \"▸\";float: left;margin-right: 0.25em;color: #696969;}#sk-container-id-1 label.sk-toggleable__label-arrow:hover:before {color: black;}#sk-container-id-1 div.sk-estimator:hover label.sk-toggleable__label-arrow:before {color: black;}#sk-container-id-1 div.sk-toggleable__content {max-height: 0;max-width: 0;overflow: hidden;text-align: left;background-color: #f0f8ff;}#sk-container-id-1 div.sk-toggleable__content pre {margin: 0.2em;color: black;border-radius: 0.25em;background-color: #f0f8ff;}#sk-container-id-1 input.sk-toggleable__control:checked~div.sk-toggleable__content {max-height: 200px;max-width: 100%;overflow: auto;}#sk-container-id-1 input.sk-toggleable__control:checked~label.sk-toggleable__label-arrow:before {content: \"▾\";}#sk-container-id-1 div.sk-estimator input.sk-toggleable__control:checked~label.sk-toggleable__label {background-color: #d4ebff;}#sk-container-id-1 div.sk-label input.sk-toggleable__control:checked~label.sk-toggleable__label {background-color: #d4ebff;}#sk-container-id-1 input.sk-hidden--visually {border: 0;clip: rect(1px 1px 1px 1px);clip: rect(1px, 1px, 1px, 1px);height: 1px;margin: -1px;overflow: hidden;padding: 0;position: absolute;width: 1px;}#sk-container-id-1 div.sk-estimator {font-family: monospace;background-color: #f0f8ff;border: 1px dotted black;border-radius: 0.25em;box-sizing: border-box;margin-bottom: 0.5em;}#sk-container-id-1 div.sk-estimator:hover {background-color: #d4ebff;}#sk-container-id-1 div.sk-parallel-item::after {content: \"\";width: 100%;border-bottom: 1px solid gray;flex-grow: 1;}#sk-container-id-1 div.sk-label:hover label.sk-toggleable__label {background-color: #d4ebff;}#sk-container-id-1 div.sk-serial::before {content: \"\";position: absolute;border-left: 1px solid gray;box-sizing: border-box;top: 0;bottom: 0;left: 50%;z-index: 0;}#sk-container-id-1 div.sk-serial {display: flex;flex-direction: column;align-items: center;background-color: white;padding-right: 0.2em;padding-left: 0.2em;position: relative;}#sk-container-id-1 div.sk-item {position: relative;z-index: 1;}#sk-container-id-1 div.sk-parallel {display: flex;align-items: stretch;justify-content: center;background-color: white;position: relative;}#sk-container-id-1 div.sk-item::before, #sk-container-id-1 div.sk-parallel-item::before {content: \"\";position: absolute;border-left: 1px solid gray;box-sizing: border-box;top: 0;bottom: 0;left: 50%;z-index: -1;}#sk-container-id-1 div.sk-parallel-item {display: flex;flex-direction: column;z-index: 1;position: relative;background-color: white;}#sk-container-id-1 div.sk-parallel-item:first-child::after {align-self: flex-end;width: 50%;}#sk-container-id-1 div.sk-parallel-item:last-child::after {align-self: flex-start;width: 50%;}#sk-container-id-1 div.sk-parallel-item:only-child::after {width: 0;}#sk-container-id-1 div.sk-dashed-wrapped {border: 1px dashed gray;margin: 0 0.4em 0.5em 0.4em;box-sizing: border-box;padding-bottom: 0.4em;background-color: white;}#sk-container-id-1 div.sk-label label {font-family: monospace;font-weight: bold;display: inline-block;line-height: 1.2em;}#sk-container-id-1 div.sk-label-container {text-align: center;}#sk-container-id-1 div.sk-container {/* jupyter's `normalize.less` sets `[hidden] { display: none; }` but bootstrap.min.css set `[hidden] { display: none !important; }` so we also need the `!important` here to be able to override the default hidden behavior on the sphinx rendered scikit-learn.org. See: https://github.com/scikit-learn/scikit-learn/issues/21755 */display: inline-block !important;position: relative;}#sk-container-id-1 div.sk-text-repr-fallback {display: none;}</style><div id=\"sk-container-id-1\" class=\"sk-top-container\"><div class=\"sk-text-repr-fallback\"><pre>GridSearchCV(cv=StratifiedKFold(n_splits=5, random_state=10, shuffle=True),\n",
       "             estimator=KerasClassifier(batch_size=64, dropout=0.45, epochs=8, hidden_layer_sizes=(64, 32), loss=&lt;class &#x27;keras.src.losses.BinaryCrossentropy&#x27;&gt;, metrics=[&lt;class &#x27;keras.src.metrics.accuracy_metrics.Accuracy&#x27;&gt;, &lt;class &#x27;keras.src.metrics.confusion_metrics.Recall&#x27;&gt;], model=&lt;function get_clf a...dam&#x27;, optimizer__learning_rate=0.0021, random_state=10, verbose=0),\n",
       "             n_jobs=4,\n",
       "             param_grid={&#x27;batch_size&#x27;: [64, 128],\n",
       "                         &#x27;dropout&#x27;: [0.47713206432667465, 0.4020751949359402,\n",
       "                                     0.4633648234926276],\n",
       "                         &#x27;epochs&#x27;: [8, 12, 16],\n",
       "                         &#x27;hidden_layer_sizes&#x27;: [(64,), (64, 32)],\n",
       "                         &#x27;optimizer__learning_rate&#x27;: [0.002185359818367797,\n",
       "                                                      0.0024533933461949363,\n",
       "                                                      0.0015039482663279145]},\n",
       "             scoring=&#x27;f1_weighted&#x27;)</pre><b>In a Jupyter environment, please rerun this cell to show the HTML representation or trust the notebook. <br />On GitHub, the HTML representation is unable to render, please try loading this page with nbviewer.org.</b></div><div class=\"sk-container\" hidden><div class=\"sk-item sk-dashed-wrapped\"><div class=\"sk-label-container\"><div class=\"sk-label sk-toggleable\"><input class=\"sk-toggleable__control sk-hidden--visually\" id=\"sk-estimator-id-1\" type=\"checkbox\" ><label for=\"sk-estimator-id-1\" class=\"sk-toggleable__label sk-toggleable__label-arrow\">GridSearchCV</label><div class=\"sk-toggleable__content\"><pre>GridSearchCV(cv=StratifiedKFold(n_splits=5, random_state=10, shuffle=True),\n",
       "             estimator=KerasClassifier(batch_size=64, dropout=0.45, epochs=8, hidden_layer_sizes=(64, 32), loss=&lt;class &#x27;keras.src.losses.BinaryCrossentropy&#x27;&gt;, metrics=[&lt;class &#x27;keras.src.metrics.accuracy_metrics.Accuracy&#x27;&gt;, &lt;class &#x27;keras.src.metrics.confusion_metrics.Recall&#x27;&gt;], model=&lt;function get_clf a...dam&#x27;, optimizer__learning_rate=0.0021, random_state=10, verbose=0),\n",
       "             n_jobs=4,\n",
       "             param_grid={&#x27;batch_size&#x27;: [64, 128],\n",
       "                         &#x27;dropout&#x27;: [0.47713206432667465, 0.4020751949359402,\n",
       "                                     0.4633648234926276],\n",
       "                         &#x27;epochs&#x27;: [8, 12, 16],\n",
       "                         &#x27;hidden_layer_sizes&#x27;: [(64,), (64, 32)],\n",
       "                         &#x27;optimizer__learning_rate&#x27;: [0.002185359818367797,\n",
       "                                                      0.0024533933461949363,\n",
       "                                                      0.0015039482663279145]},\n",
       "             scoring=&#x27;f1_weighted&#x27;)</pre></div></div></div><div class=\"sk-parallel\"><div class=\"sk-parallel-item\"><div class=\"sk-item\"><div class=\"sk-label-container\"><div class=\"sk-label sk-toggleable\"><input class=\"sk-toggleable__control sk-hidden--visually\" id=\"sk-estimator-id-2\" type=\"checkbox\" ><label for=\"sk-estimator-id-2\" class=\"sk-toggleable__label sk-toggleable__label-arrow\">estimator: KerasClassifier</label><div class=\"sk-toggleable__content\"><pre>KerasClassifier(\n",
       "\tmodel=&lt;function get_clf at 0x0000015482951280&gt;\n",
       "\tbuild_fn=None\n",
       "\twarm_start=False\n",
       "\trandom_state=10\n",
       "\toptimizer=adam\n",
       "\tloss=&lt;class &#x27;keras.src.losses.BinaryCrossentropy&#x27;&gt;\n",
       "\tmetrics=[&lt;class &#x27;keras.src.metrics.accuracy_metrics.Accuracy&#x27;&gt;, &lt;class &#x27;keras.src.metrics.confusion_metrics.Recall&#x27;&gt;]\n",
       "\tbatch_size=64\n",
       "\tvalidation_batch_size=None\n",
       "\tverbose=0\n",
       "\tcallbacks=None\n",
       "\tvalidation_split=0.0\n",
       "\tshuffle=True\n",
       "\trun_eagerly=False\n",
       "\tepochs=8\n",
       "\thidden_layer_sizes=(64, 32)\n",
       "\tdropout=0.45\n",
       "\toptimizer__learning_rate=0.0021\n",
       "\tclass_weight=None\n",
       ")</pre></div></div></div><div class=\"sk-serial\"><div class=\"sk-item\"><div class=\"sk-estimator sk-toggleable\"><input class=\"sk-toggleable__control sk-hidden--visually\" id=\"sk-estimator-id-3\" type=\"checkbox\" ><label for=\"sk-estimator-id-3\" class=\"sk-toggleable__label sk-toggleable__label-arrow\">KerasClassifier</label><div class=\"sk-toggleable__content\"><pre>KerasClassifier(\n",
       "\tmodel=&lt;function get_clf at 0x0000015482951280&gt;\n",
       "\tbuild_fn=None\n",
       "\twarm_start=False\n",
       "\trandom_state=10\n",
       "\toptimizer=adam\n",
       "\tloss=&lt;class &#x27;keras.src.losses.BinaryCrossentropy&#x27;&gt;\n",
       "\tmetrics=[&lt;class &#x27;keras.src.metrics.accuracy_metrics.Accuracy&#x27;&gt;, &lt;class &#x27;keras.src.metrics.confusion_metrics.Recall&#x27;&gt;]\n",
       "\tbatch_size=64\n",
       "\tvalidation_batch_size=None\n",
       "\tverbose=0\n",
       "\tcallbacks=None\n",
       "\tvalidation_split=0.0\n",
       "\tshuffle=True\n",
       "\trun_eagerly=False\n",
       "\tepochs=8\n",
       "\thidden_layer_sizes=(64, 32)\n",
       "\tdropout=0.45\n",
       "\toptimizer__learning_rate=0.0021\n",
       "\tclass_weight=None\n",
       ")</pre></div></div></div></div></div></div></div></div></div></div>"
      ],
      "text/plain": [
       "GridSearchCV(cv=StratifiedKFold(n_splits=5, random_state=10, shuffle=True),\n",
       "             estimator=KerasClassifier(batch_size=64, dropout=0.45, epochs=8, hidden_layer_sizes=(64, 32), loss=<class 'keras.src.losses.BinaryCrossentropy'>, metrics=[<class 'keras.src.metrics.accuracy_metrics.Accuracy'>, <class 'keras.src.metrics.confusion_metrics.Recall'>], model=<function get_clf a...dam', optimizer__learning_rate=0.0021, random_state=10, verbose=0),\n",
       "             n_jobs=4,\n",
       "             param_grid={'batch_size': [64, 128],\n",
       "                         'dropout': [0.47713206432667465, 0.4020751949359402,\n",
       "                                     0.4633648234926276],\n",
       "                         'epochs': [8, 12, 16],\n",
       "                         'hidden_layer_sizes': [(64,), (64, 32)],\n",
       "                         'optimizer__learning_rate': [0.002185359818367797,\n",
       "                                                      0.0024533933461949363,\n",
       "                                                      0.0015039482663279145]},\n",
       "             scoring='f1_weighted')"
      ]
     },
     "execution_count": 50,
     "metadata": {},
     "output_type": "execute_result"
    }
   ],
   "source": [
    "# Train the model with RandomizedSearch\n",
    "rsearch.fit(X_train, y_train)"
   ]
  },
  {
   "cell_type": "markdown",
   "metadata": {},
   "source": [
    "## Quantify our Trained Model¶"
   ]
  },
  {
   "cell_type": "code",
   "execution_count": 51,
   "metadata": {
    "execution": {
     "iopub.execute_input": "2022-11-28T11:27:05.961027Z",
     "iopub.status.busy": "2022-11-28T11:27:05.961027Z",
     "iopub.status.idle": "2022-11-28T11:27:05.988023Z",
     "shell.execute_reply": "2022-11-28T11:27:05.987024Z",
     "shell.execute_reply.started": "2022-11-28T11:27:05.961027Z"
    },
    "tags": []
   },
   "outputs": [
    {
     "name": "stdout",
     "output_type": "stream",
     "text": [
      "Best Score: 0.5339971349365691  using:\n",
      "{'batch_size': 64, 'dropout': 0.47713206432667465, 'epochs': 12, 'hidden_layer_sizes': (64,), 'optimizer__learning_rate': 0.0015039482663279145}\n"
     ]
    }
   ],
   "source": [
    "# Summarize result\n",
    "print(f\"Best Score: {rsearch.best_score_}  using:\\n{rsearch.best_params_}\")"
   ]
  },
  {
   "cell_type": "code",
   "execution_count": 52,
   "metadata": {
    "execution": {
     "iopub.execute_input": "2022-11-28T11:27:18.078425Z",
     "iopub.status.busy": "2022-11-28T11:27:18.078425Z",
     "iopub.status.idle": "2022-11-28T11:27:19.420726Z",
     "shell.execute_reply": "2022-11-28T11:27:19.419725Z",
     "shell.execute_reply.started": "2022-11-28T11:27:18.078425Z"
    },
    "scrolled": true,
    "tags": []
   },
   "outputs": [
    {
     "name": "stdout",
     "output_type": "stream",
     "text": [
      "Training Data Score: 0.5219143727784004\n",
      "Testing Data Score: 0.5096241478120219\n"
     ]
    }
   ],
   "source": [
    "# Compare training and testing scores\n",
    "print(f\"Training Data Score: {rsearch.score(X_train, y_train)}\")\n",
    "print(f\"Testing Data Score: {rsearch.score(X_test, y_test)}\")"
   ]
  },
  {
   "cell_type": "markdown",
   "metadata": {},
   "source": [
    "## Make Predictions"
   ]
  },
  {
   "cell_type": "code",
   "execution_count": 53,
   "metadata": {
    "execution": {
     "iopub.execute_input": "2022-11-28T11:27:29.936772Z",
     "iopub.status.busy": "2022-11-28T11:27:29.936772Z",
     "iopub.status.idle": "2022-11-28T11:27:30.189196Z",
     "shell.execute_reply": "2022-11-28T11:27:30.188150Z",
     "shell.execute_reply.started": "2022-11-28T11:27:29.936772Z"
    },
    "scrolled": true,
    "tags": []
   },
   "outputs": [
    {
     "data": {
      "text/plain": [
       "array([1, 1, 1, ..., 0, 0, 1], dtype=int64)"
      ]
     },
     "execution_count": 53,
     "metadata": {},
     "output_type": "execute_result"
    }
   ],
   "source": [
    "# Make predictions with the hypertuned model\n",
    "pred = rsearch.predict(X_test)\n",
    "pred"
   ]
  },
  {
   "cell_type": "code",
   "execution_count": 54,
   "metadata": {
    "execution": {
     "iopub.execute_input": "2022-11-28T11:27:44.228057Z",
     "iopub.status.busy": "2022-11-28T11:27:44.227056Z",
     "iopub.status.idle": "2022-11-28T11:27:44.247056Z",
     "shell.execute_reply": "2022-11-28T11:27:44.246052Z",
     "shell.execute_reply.started": "2022-11-28T11:27:44.228057Z"
    },
    "tags": []
   },
   "outputs": [
    {
     "data": {
      "text/plain": [
       "0.5290916701548766"
      ]
     },
     "execution_count": 54,
     "metadata": {},
     "output_type": "execute_result"
    }
   ],
   "source": [
    "accuracy_score(y_test, pred)"
   ]
  },
  {
   "cell_type": "markdown",
   "metadata": {},
   "source": [
    "#### Classification metrics"
   ]
  },
  {
   "cell_type": "code",
   "execution_count": 55,
   "metadata": {
    "execution": {
     "iopub.execute_input": "2022-11-28T11:28:00.151514Z",
     "iopub.status.busy": "2022-11-28T11:28:00.150514Z",
     "iopub.status.idle": "2022-11-28T11:28:00.179905Z",
     "shell.execute_reply": "2022-11-28T11:28:00.178907Z",
     "shell.execute_reply.started": "2022-11-28T11:28:00.151514Z"
    },
    "tags": []
   },
   "outputs": [
    {
     "name": "stdout",
     "output_type": "stream",
     "text": [
      "[[1740  649]\n",
      " [1601  788]]\n"
     ]
    }
   ],
   "source": [
    "# Confusion matrix\n",
    "cm = confusion_matrix(y_test, pred)\n",
    "print(cm)"
   ]
  },
  {
   "cell_type": "code",
   "execution_count": 56,
   "metadata": {
    "execution": {
     "iopub.execute_input": "2022-11-28T11:28:03.756280Z",
     "iopub.status.busy": "2022-11-28T11:28:03.755281Z",
     "iopub.status.idle": "2022-11-28T11:28:03.777317Z",
     "shell.execute_reply": "2022-11-28T11:28:03.776317Z",
     "shell.execute_reply.started": "2022-11-28T11:28:03.756280Z"
    },
    "tags": []
   },
   "outputs": [
    {
     "name": "stdout",
     "output_type": "stream",
     "text": [
      "[[0.73 0.27]\n",
      " [0.67 0.33]]\n"
     ]
    }
   ],
   "source": [
    "# Normalized confusion matrix\n",
    "cm = np.around(cm / cm.sum(axis=1)[:, np.newaxis], 2)\n",
    "print(cm)"
   ]
  },
  {
   "cell_type": "code",
   "execution_count": 57,
   "metadata": {
    "execution": {
     "iopub.execute_input": "2022-11-28T14:41:38.562815Z",
     "iopub.status.busy": "2022-11-28T14:41:38.561816Z",
     "iopub.status.idle": "2022-11-28T14:41:38.607344Z",
     "shell.execute_reply": "2022-11-28T14:41:38.606342Z",
     "shell.execute_reply.started": "2022-11-28T14:41:38.562815Z"
    },
    "tags": []
   },
   "outputs": [
    {
     "name": "stdout",
     "output_type": "stream",
     "text": [
      "              precision    recall  f1-score   support\n",
      "\n",
      "           0       0.52      0.73      0.61      2389\n",
      "           1       0.55      0.33      0.41      2389\n",
      "\n",
      "    accuracy                           0.53      4778\n",
      "   macro avg       0.53      0.53      0.51      4778\n",
      "weighted avg       0.53      0.53      0.51      4778\n",
      "\n"
     ]
    }
   ],
   "source": [
    "# Classification report\n",
    "print(classification_report(y_test, pred))"
   ]
  },
  {
   "cell_type": "markdown",
   "metadata": {},
   "source": [
    "#### Predictions"
   ]
  },
  {
   "cell_type": "code",
   "execution_count": 58,
   "metadata": {
    "execution": {
     "iopub.execute_input": "2022-11-28T14:42:09.148361Z",
     "iopub.status.busy": "2022-11-28T14:42:09.148361Z",
     "iopub.status.idle": "2022-11-28T14:42:09.178363Z",
     "shell.execute_reply": "2022-11-28T14:42:09.177363Z",
     "shell.execute_reply.started": "2022-11-28T14:42:09.148361Z"
    },
    "tags": []
   },
   "outputs": [
    {
     "name": "stdout",
     "output_type": "stream",
     "text": [
      "Predicted classes: \t[1, 1, 1, 0, 0, 0, 0, 0, 0, 0]\n",
      "Actual Labels: \t\t[1, 1, 0, 1, 0, 0, 1, 0, 1, 0]\n"
     ]
    }
   ],
   "source": [
    "print(f\"Predicted classes: \\t{list(pred[:10])}\")\n",
    "print(f\"Actual Labels: \\t\\t{list(y_test[:10])}\")"
   ]
  },
  {
   "cell_type": "code",
   "execution_count": 59,
   "metadata": {
    "execution": {
     "iopub.execute_input": "2022-11-28T14:42:18.710537Z",
     "iopub.status.busy": "2022-11-28T14:42:18.710537Z",
     "iopub.status.idle": "2022-11-28T14:42:22.613804Z",
     "shell.execute_reply": "2022-11-28T14:42:22.612794Z",
     "shell.execute_reply.started": "2022-11-28T14:42:18.710537Z"
    },
    "scrolled": true,
    "tags": []
   },
   "outputs": [
    {
     "name": "stdout",
     "output_type": "stream",
     "text": [
      "Predicted classes: \t[0]\n",
      "Actual Labels: \t\t[0]\n"
     ]
    }
   ],
   "source": [
    "pred1 = rsearch.predict(X_test[5:6])\n",
    "print(f\"Predicted classes: \\t{list(pred1)}\")\n",
    "print(f\"Actual Labels: \\t\\t{list(y_test[5:6])}\")"
   ]
  },
  {
   "cell_type": "markdown",
   "metadata": {},
   "source": [
    "#### Test for new data"
   ]
  },
  {
   "cell_type": "code",
   "execution_count": 60,
   "metadata": {
    "execution": {
     "iopub.execute_input": "2022-11-28T14:42:31.451804Z",
     "iopub.status.busy": "2022-11-28T14:42:31.451804Z",
     "iopub.status.idle": "2022-11-28T14:42:31.468084Z",
     "shell.execute_reply": "2022-11-28T14:42:31.467084Z",
     "shell.execute_reply.started": "2022-11-28T14:42:31.451804Z"
    },
    "tags": []
   },
   "outputs": [
    {
     "data": {
      "text/plain": [
       "array([[6.82000000e+02, 1.00000000e+00, 0.00000000e+00, 4.00000000e+01,\n",
       "        3.00000000e+00, 1.18689091e+05, 1.00000000e+00, 0.00000000e+00,\n",
       "        0.00000000e+00, 1.84930776e+05]])"
      ]
     },
     "execution_count": 60,
     "metadata": {},
     "output_type": "execute_result"
    }
   ],
   "source": [
    "X_new = X_test[0,:].reshape(1,-1)\n",
    "X_new"
   ]
  },
  {
   "cell_type": "code",
   "execution_count": 61,
   "metadata": {
    "execution": {
     "iopub.execute_input": "2022-11-28T14:42:33.906566Z",
     "iopub.status.busy": "2022-11-28T14:42:33.905527Z",
     "iopub.status.idle": "2022-11-28T14:42:33.918529Z",
     "shell.execute_reply": "2022-11-28T14:42:33.917570Z",
     "shell.execute_reply.started": "2022-11-28T14:42:33.906566Z"
    },
    "tags": []
   },
   "outputs": [
    {
     "data": {
      "text/plain": [
       "(1, 10)"
      ]
     },
     "execution_count": 61,
     "metadata": {},
     "output_type": "execute_result"
    }
   ],
   "source": [
    "X_new.shape"
   ]
  },
  {
   "cell_type": "code",
   "execution_count": 62,
   "metadata": {
    "execution": {
     "iopub.execute_input": "2022-11-28T14:42:39.578823Z",
     "iopub.status.busy": "2022-11-28T14:42:39.577823Z",
     "iopub.status.idle": "2022-11-28T14:42:39.760873Z",
     "shell.execute_reply": "2022-11-28T14:42:39.759871Z",
     "shell.execute_reply.started": "2022-11-28T14:42:39.578823Z"
    },
    "tags": []
   },
   "outputs": [],
   "source": [
    "pred_new = rsearch.predict(X_new)"
   ]
  },
  {
   "cell_type": "code",
   "execution_count": 63,
   "metadata": {
    "execution": {
     "iopub.execute_input": "2022-11-28T14:43:22.996518Z",
     "iopub.status.busy": "2022-11-28T14:43:22.996518Z",
     "iopub.status.idle": "2022-11-28T14:43:23.010093Z",
     "shell.execute_reply": "2022-11-28T14:43:23.009095Z",
     "shell.execute_reply.started": "2022-11-28T14:43:22.996518Z"
    },
    "scrolled": true,
    "tags": []
   },
   "outputs": [
    {
     "name": "stdout",
     "output_type": "stream",
     "text": [
      "Predicted classes: \t[1]\n",
      "Actual Labels: \t\t[1]\n"
     ]
    }
   ],
   "source": [
    "print(f\"Predicted classes: \\t{list(pred_new)}\")\n",
    "print(f\"Actual Labels: \\t\\t{list(y_test[:1])}\")"
   ]
  },
  {
   "cell_type": "markdown",
   "metadata": {},
   "source": [
    "## Saving a Trained Model"
   ]
  },
  {
   "cell_type": "code",
   "execution_count": 64,
   "metadata": {
    "execution": {
     "iopub.execute_input": "2022-11-28T14:44:00.087204Z",
     "iopub.status.busy": "2022-11-28T14:44:00.087204Z",
     "iopub.status.idle": "2022-11-28T14:44:01.571271Z",
     "shell.execute_reply": "2022-11-28T14:44:01.570271Z",
     "shell.execute_reply.started": "2022-11-28T14:44:00.087204Z"
    },
    "tags": []
   },
   "outputs": [
    {
     "name": "stdout",
     "output_type": "stream",
     "text": [
      "INFO:tensorflow:Assets written to: C:\\Users\\mkahs\\AppData\\Local\\Temp\\tmpcbhefu6_\\assets\n"
     ]
    },
    {
     "name": "stderr",
     "output_type": "stream",
     "text": [
      "INFO:tensorflow:Assets written to: C:\\Users\\mkahs\\AppData\\Local\\Temp\\tmpcbhefu6_\\assets\n"
     ]
    },
    {
     "name": "stdout",
     "output_type": "stream",
     "text": [
      "INFO:tensorflow:Assets written to: C:\\Users\\mkahs\\AppData\\Local\\Temp\\tmpw7yq7clr\\assets\n"
     ]
    },
    {
     "name": "stderr",
     "output_type": "stream",
     "text": [
      "INFO:tensorflow:Assets written to: C:\\Users\\mkahs\\AppData\\Local\\Temp\\tmpw7yq7clr\\assets\n"
     ]
    },
    {
     "data": {
      "text/plain": [
       "['./models/scikeras.sav']"
      ]
     },
     "execution_count": 64,
     "metadata": {},
     "output_type": "execute_result"
    }
   ],
   "source": [
    "file = './ML_MODELS/SMOTE_scikeras.sav'\n",
    "joblib.dump(rsearch, file)"
   ]
  },
  {
   "cell_type": "code",
   "execution_count": 65,
   "metadata": {
    "execution": {
     "iopub.execute_input": "2022-11-28T14:44:16.603179Z",
     "iopub.status.busy": "2022-11-28T14:44:16.602178Z",
     "iopub.status.idle": "2022-11-28T14:44:16.610723Z",
     "shell.execute_reply": "2022-11-28T14:44:16.609602Z",
     "shell.execute_reply.started": "2022-11-28T14:44:16.603179Z"
    },
    "tags": []
   },
   "outputs": [
    {
     "data": {
      "text/plain": [
       "sklearn.model_selection._search.GridSearchCV"
      ]
     },
     "execution_count": 65,
     "metadata": {},
     "output_type": "execute_result"
    }
   ],
   "source": [
    "type(rsearch)"
   ]
  },
  {
   "cell_type": "markdown",
   "metadata": {},
   "source": [
    "## Loading a Saved Model"
   ]
  },
  {
   "cell_type": "code",
   "execution_count": 66,
   "metadata": {
    "execution": {
     "iopub.execute_input": "2022-11-28T14:44:26.923095Z",
     "iopub.status.busy": "2022-11-28T14:44:26.923095Z",
     "iopub.status.idle": "2022-11-28T14:44:27.562623Z",
     "shell.execute_reply": "2022-11-28T14:44:27.561640Z",
     "shell.execute_reply.started": "2022-11-28T14:44:26.923095Z"
    },
    "tags": []
   },
   "outputs": [
    {
     "name": "stdout",
     "output_type": "stream",
     "text": [
      "WARNING:tensorflow:From c:\\Users\\mkahs\\Repository\\Nishat_CHURN\\.venv\\lib\\site-packages\\keras\\src\\saving\\legacy\\saved_model\\load.py:107: The name tf.gfile.Exists is deprecated. Please use tf.io.gfile.exists instead.\n",
      "\n"
     ]
    },
    {
     "name": "stderr",
     "output_type": "stream",
     "text": [
      "WARNING:tensorflow:From c:\\Users\\mkahs\\Repository\\Nishat_CHURN\\.venv\\lib\\site-packages\\keras\\src\\saving\\legacy\\saved_model\\load.py:107: The name tf.gfile.Exists is deprecated. Please use tf.io.gfile.exists instead.\n",
      "\n"
     ]
    }
   ],
   "source": [
    "# Load the saved model\n",
    "l_model = joblib.load(file)"
   ]
  },
  {
   "cell_type": "markdown",
   "metadata": {},
   "source": [
    "## Evaluating the loaded model¶"
   ]
  },
  {
   "cell_type": "code",
   "execution_count": 67,
   "metadata": {
    "execution": {
     "iopub.execute_input": "2022-11-28T14:44:50.201476Z",
     "iopub.status.busy": "2022-11-28T14:44:50.201476Z",
     "iopub.status.idle": "2022-11-28T14:44:50.486522Z",
     "shell.execute_reply": "2022-11-28T14:44:50.485551Z",
     "shell.execute_reply.started": "2022-11-28T14:44:50.201476Z"
    },
    "tags": []
   },
   "outputs": [
    {
     "name": "stdout",
     "output_type": "stream",
     "text": [
      "0.5096241478120219\n"
     ]
    }
   ],
   "source": [
    "print(l_model.score(X_test, y_test))"
   ]
  },
  {
   "cell_type": "code",
   "execution_count": 68,
   "metadata": {
    "execution": {
     "iopub.execute_input": "2022-11-28T14:45:04.436983Z",
     "iopub.status.busy": "2022-11-28T14:45:04.435983Z",
     "iopub.status.idle": "2022-11-28T14:45:04.672607Z",
     "shell.execute_reply": "2022-11-28T14:45:04.671604Z",
     "shell.execute_reply.started": "2022-11-28T14:45:04.436983Z"
    },
    "tags": []
   },
   "outputs": [],
   "source": [
    "# Make predictions with the hypertuned model\n",
    "predl = l_model.predict(X_test)"
   ]
  },
  {
   "cell_type": "code",
   "execution_count": 69,
   "metadata": {
    "execution": {
     "iopub.execute_input": "2022-11-28T14:45:05.827435Z",
     "iopub.status.busy": "2022-11-28T14:45:05.826435Z",
     "iopub.status.idle": "2022-11-28T14:45:05.849495Z",
     "shell.execute_reply": "2022-11-28T14:45:05.848494Z",
     "shell.execute_reply.started": "2022-11-28T14:45:05.827435Z"
    },
    "tags": []
   },
   "outputs": [
    {
     "data": {
      "text/plain": [
       "0.5290916701548766"
      ]
     },
     "execution_count": 69,
     "metadata": {},
     "output_type": "execute_result"
    }
   ],
   "source": [
    "accuracy_score(y_test, predl)"
   ]
  },
  {
   "cell_type": "code",
   "execution_count": 70,
   "metadata": {
    "execution": {
     "iopub.execute_input": "2022-11-28T14:45:59.901853Z",
     "iopub.status.busy": "2022-11-28T14:45:59.900853Z",
     "iopub.status.idle": "2022-11-28T14:45:59.920854Z",
     "shell.execute_reply": "2022-11-28T14:45:59.919893Z",
     "shell.execute_reply.started": "2022-11-28T14:45:59.901853Z"
    },
    "tags": []
   },
   "outputs": [
    {
     "name": "stdout",
     "output_type": "stream",
     "text": [
      "[[1740  649]\n",
      " [1601  788]]\n"
     ]
    }
   ],
   "source": [
    "cm = confusion_matrix(y_test, predl)\n",
    "print(cm)"
   ]
  },
  {
   "cell_type": "code",
   "execution_count": 71,
   "metadata": {
    "execution": {
     "iopub.execute_input": "2022-11-28T14:46:03.571138Z",
     "iopub.status.busy": "2022-11-28T14:46:03.571138Z",
     "iopub.status.idle": "2022-11-28T14:46:03.581101Z",
     "shell.execute_reply": "2022-11-28T14:46:03.580099Z",
     "shell.execute_reply.started": "2022-11-28T14:46:03.571138Z"
    },
    "tags": []
   },
   "outputs": [
    {
     "name": "stdout",
     "output_type": "stream",
     "text": [
      "[[0.73 0.27]\n",
      " [0.67 0.33]]\n"
     ]
    }
   ],
   "source": [
    "# Normalized confusion matrix\n",
    "cm = np.around(cm / cm.sum(axis=1)[:, np.newaxis], 2)\n",
    "print(cm)"
   ]
  },
  {
   "cell_type": "markdown",
   "metadata": {},
   "source": [
    "All looks good."
   ]
  },
  {
   "cell_type": "markdown",
   "metadata": {},
   "source": [
    "### Predict class for new data"
   ]
  },
  {
   "cell_type": "code",
   "execution_count": 72,
   "metadata": {
    "execution": {
     "iopub.execute_input": "2022-11-28T14:46:15.574946Z",
     "iopub.status.busy": "2022-11-28T14:46:15.574946Z",
     "iopub.status.idle": "2022-11-28T14:46:15.581949Z",
     "shell.execute_reply": "2022-11-28T14:46:15.580948Z",
     "shell.execute_reply.started": "2022-11-28T14:46:15.574946Z"
    },
    "tags": []
   },
   "outputs": [
    {
     "data": {
      "text/plain": [
       "array([[6.82000000e+02, 1.00000000e+00, 0.00000000e+00, 4.00000000e+01,\n",
       "        3.00000000e+00, 1.18689091e+05, 1.00000000e+00, 0.00000000e+00,\n",
       "        0.00000000e+00, 1.84930776e+05]])"
      ]
     },
     "execution_count": 72,
     "metadata": {},
     "output_type": "execute_result"
    }
   ],
   "source": [
    "# Let's use the first X_test record as new data\n",
    "X_test[:1]"
   ]
  },
  {
   "cell_type": "code",
   "execution_count": 73,
   "metadata": {
    "execution": {
     "iopub.execute_input": "2022-11-28T14:46:25.833158Z",
     "iopub.status.busy": "2022-11-28T14:46:25.833158Z",
     "iopub.status.idle": "2022-11-28T14:46:26.006481Z",
     "shell.execute_reply": "2022-11-28T14:46:26.005800Z",
     "shell.execute_reply.started": "2022-11-28T14:46:25.833158Z"
    },
    "tags": []
   },
   "outputs": [],
   "source": [
    "predl_new = l_model.predict(X_test[:1])"
   ]
  },
  {
   "cell_type": "code",
   "execution_count": 74,
   "metadata": {
    "execution": {
     "iopub.execute_input": "2022-11-28T14:46:28.514818Z",
     "iopub.status.busy": "2022-11-28T14:46:28.514818Z",
     "iopub.status.idle": "2022-11-28T14:46:28.534860Z",
     "shell.execute_reply": "2022-11-28T14:46:28.533885Z",
     "shell.execute_reply.started": "2022-11-28T14:46:28.514818Z"
    },
    "tags": []
   },
   "outputs": [
    {
     "name": "stdout",
     "output_type": "stream",
     "text": [
      "Predicted classes: \t[1]\n",
      "Actual Labels: \t\t[1]\n"
     ]
    }
   ],
   "source": [
    "print(f\"Predicted classes: \\t{list(predl_new)}\")\n",
    "print(f\"Actual Labels: \\t\\t{list(y_test[:1])}\")"
   ]
  },
  {
   "cell_type": "code",
   "execution_count": null,
   "metadata": {},
   "outputs": [],
   "source": []
  },
  {
   "cell_type": "code",
   "execution_count": null,
   "metadata": {},
   "outputs": [],
   "source": []
  }
 ],
 "metadata": {
  "kernelspec": {
   "display_name": ".venv",
   "language": "python",
   "name": "python3"
  },
  "language_info": {
   "codemirror_mode": {
    "name": "ipython",
    "version": 3
   },
   "file_extension": ".py",
   "mimetype": "text/x-python",
   "name": "python",
   "nbconvert_exporter": "python",
   "pygments_lexer": "ipython3",
   "version": "3.9.7"
  }
 },
 "nbformat": 4,
 "nbformat_minor": 4
}
