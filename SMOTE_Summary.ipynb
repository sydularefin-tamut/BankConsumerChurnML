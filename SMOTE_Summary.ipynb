{
 "cells": [
  {
   "cell_type": "code",
   "execution_count": 1,
   "metadata": {},
   "outputs": [
    {
     "name": "stdout",
     "output_type": "stream",
     "text": [
      "WARNING:tensorflow:From c:\\Users\\mkahs\\Repository\\Nishat_CHURN\\.venv\\lib\\site-packages\\keras\\src\\losses.py:2976: The name tf.losses.sparse_softmax_cross_entropy is deprecated. Please use tf.compat.v1.losses.sparse_softmax_cross_entropy instead.\n",
      "\n"
     ]
    }
   ],
   "source": [
    "import pandas as pd\n",
    "import numpy as np\n",
    "import os\n",
    "\n",
    "# Matplotlib for visualization\n",
    "from matplotlib import pyplot as plt\n",
    "# display plots in the notebook\n",
    "%matplotlib inline\n",
    "\n",
    "# Seaborn for easier visualization\n",
    "import seaborn as sns\n",
    "### sns.set_style('darkgrid')\n",
    "\n",
    "# store elements as dictionary keys and their counts as dictionary values\n",
    "from collections import Counter\n",
    "\n",
    "# # scikit-learn\n",
    "from sklearn.model_selection import train_test_split\n",
    "\n",
    "from sklearn.preprocessing import MinMaxScaler, OneHotEncoder, LabelEncoder, LabelBinarizer\n",
    "from sklearn.compose import ColumnTransformer, make_column_transformer\n",
    "# from sklearn.pipeline import make_pipeline\n",
    "from sklearn.model_selection import GridSearchCV\n",
    "\n",
    "# Function for creating model pipelines - imblearn\n",
    "from imblearn.pipeline import make_pipeline as imbl_pipe\n",
    "\n",
    "# # Over-sampling using SMOTE\n",
    "# from imblearn.over_sampling import SMOTE\n",
    "\n",
    "# Classification metrics\n",
    "from sklearn.metrics import confusion_matrix, classification_report\n",
    "from sklearn.metrics import accuracy_score, f1_score, precision_score, recall_score\n",
    "\n",
    "from sklearn.linear_model import LogisticRegression \n",
    "from sklearn.ensemble import RandomForestClassifier\n",
    "from sklearn.svm import SVC \n",
    "from sklearn import tree\n",
    "\n",
    "import xgboost as xgb\n",
    "import tensorflow\n",
    "from tensorflow.keras.models import load_model\n",
    "import joblib\n",
    "\n"
   ]
  },
  {
   "cell_type": "code",
   "execution_count": 2,
   "metadata": {},
   "outputs": [],
   "source": [
    "from scikeras.wrappers import KerasRegressor\n",
    "from tensorflow.keras.layers import Dense, Input, Dropout\n",
    "from tensorflow.keras.models import Sequential"
   ]
  },
  {
   "cell_type": "code",
   "execution_count": 3,
   "metadata": {},
   "outputs": [
    {
     "name": "stdout",
     "output_type": "stream",
     "text": [
      "Dataframe dimensions: (10000, 11)\n"
     ]
    },
    {
     "data": {
      "text/html": [
       "<div>\n",
       "<style scoped>\n",
       "    .dataframe tbody tr th:only-of-type {\n",
       "        vertical-align: middle;\n",
       "    }\n",
       "\n",
       "    .dataframe tbody tr th {\n",
       "        vertical-align: top;\n",
       "    }\n",
       "\n",
       "    .dataframe thead th {\n",
       "        text-align: right;\n",
       "    }\n",
       "</style>\n",
       "<table border=\"1\" class=\"dataframe\">\n",
       "  <thead>\n",
       "    <tr style=\"text-align: right;\">\n",
       "      <th></th>\n",
       "      <th>CreditScore</th>\n",
       "      <th>Geography</th>\n",
       "      <th>Gender</th>\n",
       "      <th>Age</th>\n",
       "      <th>Tenure</th>\n",
       "      <th>Balance</th>\n",
       "      <th>NumOfProducts</th>\n",
       "      <th>HasCrCard</th>\n",
       "      <th>IsActiveMember</th>\n",
       "      <th>EstimatedSalary</th>\n",
       "      <th>Exited</th>\n",
       "    </tr>\n",
       "  </thead>\n",
       "  <tbody>\n",
       "    <tr>\n",
       "      <th>0</th>\n",
       "      <td>619</td>\n",
       "      <td>0</td>\n",
       "      <td>0</td>\n",
       "      <td>42</td>\n",
       "      <td>2</td>\n",
       "      <td>0.00</td>\n",
       "      <td>1</td>\n",
       "      <td>1</td>\n",
       "      <td>1</td>\n",
       "      <td>101348.88</td>\n",
       "      <td>1</td>\n",
       "    </tr>\n",
       "    <tr>\n",
       "      <th>1</th>\n",
       "      <td>608</td>\n",
       "      <td>1</td>\n",
       "      <td>0</td>\n",
       "      <td>41</td>\n",
       "      <td>1</td>\n",
       "      <td>83807.86</td>\n",
       "      <td>1</td>\n",
       "      <td>0</td>\n",
       "      <td>1</td>\n",
       "      <td>112542.58</td>\n",
       "      <td>0</td>\n",
       "    </tr>\n",
       "    <tr>\n",
       "      <th>2</th>\n",
       "      <td>502</td>\n",
       "      <td>0</td>\n",
       "      <td>0</td>\n",
       "      <td>42</td>\n",
       "      <td>8</td>\n",
       "      <td>159660.80</td>\n",
       "      <td>3</td>\n",
       "      <td>1</td>\n",
       "      <td>0</td>\n",
       "      <td>113931.57</td>\n",
       "      <td>1</td>\n",
       "    </tr>\n",
       "    <tr>\n",
       "      <th>3</th>\n",
       "      <td>699</td>\n",
       "      <td>0</td>\n",
       "      <td>0</td>\n",
       "      <td>39</td>\n",
       "      <td>1</td>\n",
       "      <td>0.00</td>\n",
       "      <td>2</td>\n",
       "      <td>0</td>\n",
       "      <td>0</td>\n",
       "      <td>93826.63</td>\n",
       "      <td>0</td>\n",
       "    </tr>\n",
       "    <tr>\n",
       "      <th>4</th>\n",
       "      <td>850</td>\n",
       "      <td>1</td>\n",
       "      <td>0</td>\n",
       "      <td>43</td>\n",
       "      <td>2</td>\n",
       "      <td>125510.82</td>\n",
       "      <td>1</td>\n",
       "      <td>1</td>\n",
       "      <td>1</td>\n",
       "      <td>79084.10</td>\n",
       "      <td>0</td>\n",
       "    </tr>\n",
       "  </tbody>\n",
       "</table>\n",
       "</div>"
      ],
      "text/plain": [
       "   CreditScore  Geography  Gender  Age  Tenure    Balance  NumOfProducts  \\\n",
       "0          619          0       0   42       2       0.00              1   \n",
       "1          608          1       0   41       1   83807.86              1   \n",
       "2          502          0       0   42       8  159660.80              3   \n",
       "3          699          0       0   39       1       0.00              2   \n",
       "4          850          1       0   43       2  125510.82              1   \n",
       "\n",
       "   HasCrCard  IsActiveMember  EstimatedSalary  Exited  \n",
       "0          1               1        101348.88       1  \n",
       "1          0               1        112542.58       0  \n",
       "2          1               0        113931.57       1  \n",
       "3          0               0         93826.63       0  \n",
       "4          1               1         79084.10       0  "
      ]
     },
     "execution_count": 3,
     "metadata": {},
     "output_type": "execute_result"
    }
   ],
   "source": [
    "abt = pd.read_csv(\"SMOTE_DATA.csv\")\n",
    "print(f\"Dataframe dimensions: {abt .shape}\")\n",
    "abt.head()"
   ]
  },
  {
   "cell_type": "code",
   "execution_count": 4,
   "metadata": {},
   "outputs": [
    {
     "data": {
      "text/plain": [
       "Exited\n",
       "0    7963\n",
       "1    2037\n",
       "Name: count, dtype: int64"
      ]
     },
     "execution_count": 4,
     "metadata": {},
     "output_type": "execute_result"
    }
   ],
   "source": [
    "abt.Exited.value_counts()"
   ]
  },
  {
   "cell_type": "code",
   "execution_count": 5,
   "metadata": {},
   "outputs": [
    {
     "name": "stdout",
     "output_type": "stream",
     "text": [
      "(10000, 10) (10000,)\n"
     ]
    }
   ],
   "source": [
    "#Separate dataframe into separate object\n",
    "\n",
    "# Object for target variable\n",
    "y = abt.Exited\n",
    "\n",
    "# object for input features\n",
    "X = abt.drop(['Exited'], axis=1)\n",
    "\n",
    "# display shapes of X and y\n",
    "print(X.shape, y.shape)"
   ]
  },
  {
   "cell_type": "code",
   "execution_count": 6,
   "metadata": {},
   "outputs": [
    {
     "data": {
      "text/plain": [
       "['CreditScore',\n",
       " 'Geography',\n",
       " 'Gender',\n",
       " 'Age',\n",
       " 'Tenure',\n",
       " 'Balance',\n",
       " 'NumOfProducts',\n",
       " 'HasCrCard',\n",
       " 'IsActiveMember',\n",
       " 'EstimatedSalary']"
      ]
     },
     "execution_count": 6,
     "metadata": {},
     "output_type": "execute_result"
    }
   ],
   "source": [
    "# List numerical features\n",
    "num_columns = X.select_dtypes(include='number').columns.tolist()\n",
    "num_columns"
   ]
  },
  {
   "cell_type": "code",
   "execution_count": 7,
   "metadata": {},
   "outputs": [
    {
     "name": "stdout",
     "output_type": "stream",
     "text": [
      "7000 3000 7000 3000\n"
     ]
    }
   ],
   "source": [
    "random_state = 10\n",
    "\n",
    "# Split X and y into train and test sets\n",
    "X_train, X_test, y_train, y_test = train_test_split(X, y,\n",
    "                                                    test_size=0.3,\n",
    "                                                    random_state=random_state,\n",
    "                                                    stratify=abt.Exited)\n",
    "\n",
    "# Print number of observations in X_train, X_test, y_train, and y_test\n",
    "print(len(X_train), len(X_test), len(y_train), len(y_test))"
   ]
  },
  {
   "cell_type": "code",
   "execution_count": 8,
   "metadata": {},
   "outputs": [
    {
     "name": "stdout",
     "output_type": "stream",
     "text": [
      "<class 'pandas.core.frame.DataFrame'>\n",
      "Index: 7000 entries, 8061 to 4741\n",
      "Data columns (total 10 columns):\n",
      " #   Column           Non-Null Count  Dtype  \n",
      "---  ------           --------------  -----  \n",
      " 0   CreditScore      7000 non-null   int64  \n",
      " 1   Geography        7000 non-null   int64  \n",
      " 2   Gender           7000 non-null   int64  \n",
      " 3   Age              7000 non-null   int64  \n",
      " 4   Tenure           7000 non-null   int64  \n",
      " 5   Balance          7000 non-null   float64\n",
      " 6   NumOfProducts    7000 non-null   int64  \n",
      " 7   HasCrCard        7000 non-null   int64  \n",
      " 8   IsActiveMember   7000 non-null   int64  \n",
      " 9   EstimatedSalary  7000 non-null   float64\n",
      "dtypes: float64(2), int64(8)\n",
      "memory usage: 601.6 KB\n"
     ]
    }
   ],
   "source": [
    "X_train.info()"
   ]
  },
  {
   "cell_type": "code",
   "execution_count": 9,
   "metadata": {},
   "outputs": [
    {
     "name": "stdout",
     "output_type": "stream",
     "text": [
      "WARNING:tensorflow:From c:\\Users\\mkahs\\Repository\\Nishat_CHURN\\.venv\\lib\\site-packages\\keras\\src\\saving\\legacy\\saved_model\\load.py:107: The name tf.gfile.Exists is deprecated. Please use tf.io.gfile.exists instead.\n",
      "\n",
      "WARNING:tensorflow:From c:\\Users\\mkahs\\Repository\\Nishat_CHURN\\.venv\\lib\\site-packages\\keras\\src\\utils\\tf_utils.py:585: The name tf.executing_eagerly_outside_functions is deprecated. Please use tf.compat.v1.executing_eagerly_outside_functions instead.\n",
      "\n",
      "WARNING:tensorflow:From c:\\Users\\mkahs\\Repository\\Nishat_CHURN\\.venv\\lib\\site-packages\\keras\\src\\saving\\legacy\\save.py:538: The name tf.train.NewCheckpointReader is deprecated. Please use tf.compat.v1.train.NewCheckpointReader instead.\n",
      "\n"
     ]
    }
   ],
   "source": [
    "AdaBoost_model = joblib.load('ML_MODELS/AdaBoostClassifier_SMOTE_best_model.joblib')\n",
    "DL_model = joblib.load('ML_MODELS/SMOTE_scikeras.sav')\n",
    "lr_model = joblib.load('ML_MODELS/LogisticRegression_SMOTE_best_model.joblib')\n",
    "lgbm_model = joblib.load('ML_MODELS/LGBMClassifier_SMOTE_best_model.joblib')\n",
    "rf_model = joblib.load('ML_MODELS/RandomForestClassifier_SMOTE_best_model.joblib')\n",
    "xgb_model = joblib.load('ML_MODELS/XGBClassifier_SMOTE_best_model.joblib')"
   ]
  },
  {
   "cell_type": "code",
   "execution_count": 10,
   "metadata": {},
   "outputs": [],
   "source": [
    "# Create models dictionary, it will be needed for ploting\n",
    "\n",
    "\n",
    "\n",
    "models = {\n",
    "    'lgbm' : 'LGBMClassifier',\n",
    "    'lr' : 'Logistic Regression',\n",
    "    'rf' : 'Random Forest',\n",
    "    'AdaBoost' : 'AdaBoostClassifier',\n",
    "    'xgb' : 'XGBoost',\n",
    "    'dl': 'Deep Learning'\n",
    "}"
   ]
  },
  {
   "cell_type": "code",
   "execution_count": 11,
   "metadata": {},
   "outputs": [],
   "source": [
    "loaded_models = {\n",
    "     'lgbm' : lgbm_model,\n",
    "    'lr' : lr_model,\n",
    "    'rf' : rf_model,\n",
    "    'AdaBoost' : AdaBoost_model,\n",
    "    'xgb' : xgb_model,\n",
    "     'dl': DL_model \n",
    "}"
   ]
  },
  {
   "cell_type": "code",
   "execution_count": 12,
   "metadata": {},
   "outputs": [],
   "source": [
    "target_names = ['Stays', 'Exits']"
   ]
  },
  {
   "cell_type": "code",
   "execution_count": 13,
   "metadata": {},
   "outputs": [],
   "source": [
    "def evaluation(fit_models):\n",
    "    lst = []\n",
    "    for name, model in fit_models.items():\n",
    "        pred = model.predict(X_test)\n",
    "        lst.append([name, \n",
    "                    precision_score(y_test, pred, average='macro'),\n",
    "                    recall_score(y_test, pred, average='macro'),\n",
    "                    f1_score(y_test, pred, average='macro'),\n",
    "                    accuracy_score(y_test, pred)])\n",
    "\n",
    "    eval_df = pd.DataFrame(lst, columns=['model', 'precision', 'recall', 'f1_macro', 'accuracy'])\n",
    "    eval_df.set_index('model', inplace = True)\n",
    "    return eval_df"
   ]
  },
  {
   "cell_type": "code",
   "execution_count": 14,
   "metadata": {},
   "outputs": [],
   "source": [
    "def class_rep_cm(fit_models, models, model_id):\n",
    "    # Predict classes using model_id\n",
    "    pred = fit_models[model_id].predict(X_test)\n",
    "    print()\n",
    "    print('\\t', models[model_id])\n",
    "    print('\\t', '='*len(models[model_id]))\n",
    "\n",
    "    # Display confusion matrix for y_test and pred\n",
    "    conf_df = pd.DataFrame(confusion_matrix(y_test, pred), columns=target_names, index=target_names)\n",
    "    conf_df.index.name = 'True Labels'\n",
    "    conf_df = conf_df.rename_axis('Predicted Labels', axis='columns')\n",
    "    display(conf_df)\n",
    "    \n",
    "    # Display classification report\n",
    "    print()\n",
    "    print(classification_report(y_test, pred, target_names=target_names))"
   ]
  },
  {
   "cell_type": "code",
   "execution_count": 16,
   "metadata": {},
   "outputs": [],
   "source": [
    "def plot_conf_mat_w_and_wo_norm(fit_models, models, model_id, color):\n",
    "    # Plot confusion matrix heatmaps\n",
    "    pred = fit_models[model_id].predict(X_test)\n",
    "\n",
    "    f, (ax1, ax2) = plt.subplots(1, 2, figsize=(12, 4))\n",
    "    f.suptitle(models[model_id], fontsize=14)\n",
    "    f.subplots_adjust(top=0.85, wspace=0.3)\n",
    "\n",
    "    # confusion matrix without normalization\n",
    "    mat = confusion_matrix(y_test, pred)\n",
    "    sns.heatmap(mat,\n",
    "                annot=True,\n",
    "                annot_kws=dict(fontsize=14),\n",
    "                fmt='d',\n",
    "                cbar=True,\n",
    "                square=True,\n",
    "                cmap=color,\n",
    "                ax=ax1)\n",
    "\n",
    "    ax1.set_xticklabels(labels=target_names)\n",
    "    ax1.set_yticklabels(labels=target_names, va='center')\n",
    "    ax1.set_title('Confusion Matrix w/o Normalization')\n",
    "    ax1.set_xlabel('Predicted Label', size=12)\n",
    "    ax1.set_ylabel('True Label', size=12)\n",
    "\n",
    "    # normalized confusion matrix\n",
    "    matn = mat / mat.sum(axis=1)[:, np.newaxis]\n",
    "    sns.heatmap(matn,\n",
    "                annot=True,\n",
    "                annot_kws=dict(fontsize=14),\n",
    "                fmt='.2f',\n",
    "                cbar=True,\n",
    "                square=True,\n",
    "                cmap=color,\n",
    "                vmin = 0,\n",
    "                vmax = 1,\n",
    "                ax=ax2)\n",
    "\n",
    "    ax2.set_xticklabels(labels=target_names)\n",
    "    ax2.set_yticklabels(labels=target_names, va='center')\n",
    "    ax2.set_title('Normalized Confusion Matrix')\n",
    "    ax2.set_xlabel('Predicted Label', size=12)\n",
    "    ax2.set_ylabel('True Label', size=12)\n",
    "\n",
    "    plt.show()"
   ]
  },
  {
   "cell_type": "code",
   "execution_count": 17,
   "metadata": {},
   "outputs": [],
   "source": [
    "def plot_norm_conf_matrices(fit_models, models, color):\n",
    "    # Prepare lists of coordinates for axes\n",
    "    lt = []  # list for full subplots\n",
    "    ltd = []  # list for empty subplots\n",
    "    col = 2  # number of columns\n",
    "    n_mod = len(fit_models)  # number of fitted models\n",
    "    \n",
    "    # Number of rows\n",
    "    row = - (n_mod // -col)\n",
    "    \n",
    "    # Create lists of coordinates for full and empty subplots\n",
    "    for r in range(row):\n",
    "        for c in range(col):\n",
    "            if n_mod >= (r + 1) * (c + 1):\n",
    "                lt.append([r, c])\n",
    "            else:\n",
    "                ltd.append([r, c])\n",
    "    \n",
    "    # Create figure and subplots\n",
    "    figs_y = row * 4  # y size\n",
    "    f, axs = plt.subplots(row, col, figsize=(10, figs_y))\n",
    "    f.suptitle('Normalized Confusion Matrices', fontsize=14)\n",
    "    f.subplots_adjust(top=0.94, wspace=0.90, hspace=0.2)\n",
    "    \n",
    "    # Reshape axes; needed in case of only 1 row\n",
    "    axs = axs.reshape(row,-col)\n",
    "\n",
    "    # Loop to delete N last empty subplots (if any)\n",
    "    for n in range(len(ltd)):\n",
    "        r = ltd[n][0]\n",
    "        c = ltd[n][1]\n",
    "        f.delaxes(ax= axs[r, c])\n",
    "        \n",
    "    # Loop to plot all full subplots\n",
    "    i = 0\n",
    "    # Loop for each fitted model        \n",
    "    for id, model in fit_models.items():\n",
    "        pred = model.predict(X_test)\n",
    "        name = models[id]\n",
    "        r = lt[i][0]\n",
    "        c = lt[i][1]\n",
    "        i += 1\n",
    "     \n",
    "        mat = confusion_matrix(y_test, pred)    \n",
    "        # normalized confusion matrix\n",
    "        matn = mat / mat.sum(axis=1)[:, np.newaxis]\n",
    "\n",
    "        ax = axs[r, c]\n",
    "        sns.heatmap(matn,\n",
    "                    annot=True,\n",
    "                    annot_kws=dict(fontsize=14),\n",
    "                    fmt='.2f',\n",
    "                    cbar=False,\n",
    "                    square=True,\n",
    "                    cmap=color,\n",
    "                    vmin = 0,\n",
    "                    vmax = 1,\n",
    "                    #cbar_kws = {'shrink' : 0.85},\n",
    "                    ax=ax)\n",
    "    \n",
    "        ax.set_xticklabels(labels=target_names)\n",
    "        ax.set_yticklabels(labels=target_names, va='center')\n",
    "        ax.set_title(name)\n",
    "        ax.set_xlabel('Predicted Label', size=12)\n",
    "        ax.set_ylabel('True Label', size=12)\n",
    "    plt.savefig(\"./Figures/CONFUSION_MATRIX_SMOTE_ML_MODELS.png\")\n",
    "    plt.show()"
   ]
  },
  {
   "cell_type": "code",
   "execution_count": 18,
   "metadata": {},
   "outputs": [
    {
     "name": "stderr",
     "output_type": "stream",
     "text": [
      "c:\\Users\\mkahs\\Repository\\Nishat_CHURN\\.venv\\lib\\site-packages\\sklearn\\base.py:458: UserWarning: X has feature names, but LogisticRegression was fitted without feature names\n",
      "  warnings.warn(\n",
      "c:\\Users\\mkahs\\Repository\\Nishat_CHURN\\.venv\\lib\\site-packages\\sklearn\\base.py:458: UserWarning: X has feature names, but RandomForestClassifier was fitted without feature names\n",
      "  warnings.warn(\n",
      "c:\\Users\\mkahs\\Repository\\Nishat_CHURN\\.venv\\lib\\site-packages\\sklearn\\base.py:458: UserWarning: X has feature names, but AdaBoostClassifier was fitted without feature names\n",
      "  warnings.warn(\n",
      "c:\\Users\\mkahs\\Repository\\Nishat_CHURN\\.venv\\lib\\site-packages\\xgboost\\core.py:160: UserWarning: [19:28:41] WARNING: C:\\buildkite-agent\\builds\\buildkite-windows-cpu-autoscaling-group-i-0b3782d1791676daf-1\\xgboost\\xgboost-ci-windows\\src\\common\\error_msg.cc:27: The tree method `gpu_hist` is deprecated since 2.0.0. To use GPU training, set the `device` parameter to CUDA instead.\n",
      "\n",
      "    E.g. tree_method = \"hist\", device = \"cuda\"\n",
      "\n",
      "  warnings.warn(smsg, UserWarning)\n",
      "c:\\Users\\mkahs\\Repository\\Nishat_CHURN\\.venv\\lib\\site-packages\\xgboost\\core.py:160: UserWarning: [19:28:41] WARNING: C:\\buildkite-agent\\builds\\buildkite-windows-cpu-autoscaling-group-i-0b3782d1791676daf-1\\xgboost\\xgboost-ci-windows\\src\\common\\error_msg.cc:58: Falling back to prediction using DMatrix due to mismatched devices. This might lead to higher memory usage and slower performance. XGBoost is running on: cuda:0, while the input data is on: cpu.\n",
      "Potential solutions:\n",
      "- Use a data structure that matches the device ordinal in the booster.\n",
      "- Set the device for booster before call to inplace_predict.\n",
      "\n",
      "This warning will only be shown once.\n",
      "\n",
      "  warnings.warn(smsg, UserWarning)\n"
     ]
    },
    {
     "data": {
      "text/html": [
       "<div>\n",
       "<style scoped>\n",
       "    .dataframe tbody tr th:only-of-type {\n",
       "        vertical-align: middle;\n",
       "    }\n",
       "\n",
       "    .dataframe tbody tr th {\n",
       "        vertical-align: top;\n",
       "    }\n",
       "\n",
       "    .dataframe thead th {\n",
       "        text-align: right;\n",
       "    }\n",
       "</style>\n",
       "<table border=\"1\" class=\"dataframe\">\n",
       "  <thead>\n",
       "    <tr style=\"text-align: right;\">\n",
       "      <th></th>\n",
       "      <th>precision</th>\n",
       "      <th>recall</th>\n",
       "      <th>f1_macro</th>\n",
       "      <th>accuracy</th>\n",
       "    </tr>\n",
       "    <tr>\n",
       "      <th>model</th>\n",
       "      <th></th>\n",
       "      <th></th>\n",
       "      <th></th>\n",
       "      <th></th>\n",
       "    </tr>\n",
       "  </thead>\n",
       "  <tbody>\n",
       "    <tr>\n",
       "      <th>lgbm</th>\n",
       "      <td>0.758926</td>\n",
       "      <td>0.822782</td>\n",
       "      <td>0.780885</td>\n",
       "      <td>0.839000</td>\n",
       "    </tr>\n",
       "    <tr>\n",
       "      <th>lr</th>\n",
       "      <td>0.598534</td>\n",
       "      <td>0.647035</td>\n",
       "      <td>0.586887</td>\n",
       "      <td>0.648333</td>\n",
       "    </tr>\n",
       "    <tr>\n",
       "      <th>rf</th>\n",
       "      <td>0.784015</td>\n",
       "      <td>0.866572</td>\n",
       "      <td>0.810283</td>\n",
       "      <td>0.857333</td>\n",
       "    </tr>\n",
       "    <tr>\n",
       "      <th>AdaBoost</th>\n",
       "      <td>0.697776</td>\n",
       "      <td>0.751763</td>\n",
       "      <td>0.714084</td>\n",
       "      <td>0.787000</td>\n",
       "    </tr>\n",
       "    <tr>\n",
       "      <th>xgb</th>\n",
       "      <td>0.751722</td>\n",
       "      <td>0.817378</td>\n",
       "      <td>0.773497</td>\n",
       "      <td>0.832333</td>\n",
       "    </tr>\n",
       "    <tr>\n",
       "      <th>dl</th>\n",
       "      <td>0.528587</td>\n",
       "      <td>0.536019</td>\n",
       "      <td>0.526963</td>\n",
       "      <td>0.650000</td>\n",
       "    </tr>\n",
       "  </tbody>\n",
       "</table>\n",
       "</div>"
      ],
      "text/plain": [
       "          precision    recall  f1_macro  accuracy\n",
       "model                                            \n",
       "lgbm       0.758926  0.822782  0.780885  0.839000\n",
       "lr         0.598534  0.647035  0.586887  0.648333\n",
       "rf         0.784015  0.866572  0.810283  0.857333\n",
       "AdaBoost   0.697776  0.751763  0.714084  0.787000\n",
       "xgb        0.751722  0.817378  0.773497  0.832333\n",
       "dl         0.528587  0.536019  0.526963  0.650000"
      ]
     },
     "execution_count": 18,
     "metadata": {},
     "output_type": "execute_result"
    }
   ],
   "source": [
    "# Display evaluation metrics\n",
    "evaluation(loaded_models)"
   ]
  },
  {
   "cell_type": "code",
   "execution_count": 19,
   "metadata": {},
   "outputs": [
    {
     "name": "stdout",
     "output_type": "stream",
     "text": [
      "\n",
      "\t LGBMClassifier\n",
      "\t ==============\n"
     ]
    },
    {
     "data": {
      "text/html": [
       "<div>\n",
       "<style scoped>\n",
       "    .dataframe tbody tr th:only-of-type {\n",
       "        vertical-align: middle;\n",
       "    }\n",
       "\n",
       "    .dataframe tbody tr th {\n",
       "        vertical-align: top;\n",
       "    }\n",
       "\n",
       "    .dataframe thead th {\n",
       "        text-align: right;\n",
       "    }\n",
       "</style>\n",
       "<table border=\"1\" class=\"dataframe\">\n",
       "  <thead>\n",
       "    <tr style=\"text-align: right;\">\n",
       "      <th>Predicted Labels</th>\n",
       "      <th>Stays</th>\n",
       "      <th>Exits</th>\n",
       "    </tr>\n",
       "    <tr>\n",
       "      <th>True Labels</th>\n",
       "      <th></th>\n",
       "      <th></th>\n",
       "    </tr>\n",
       "  </thead>\n",
       "  <tbody>\n",
       "    <tr>\n",
       "      <th>Stays</th>\n",
       "      <td>2031</td>\n",
       "      <td>358</td>\n",
       "    </tr>\n",
       "    <tr>\n",
       "      <th>Exits</th>\n",
       "      <td>125</td>\n",
       "      <td>486</td>\n",
       "    </tr>\n",
       "  </tbody>\n",
       "</table>\n",
       "</div>"
      ],
      "text/plain": [
       "Predicted Labels  Stays  Exits\n",
       "True Labels                   \n",
       "Stays              2031    358\n",
       "Exits               125    486"
      ]
     },
     "metadata": {},
     "output_type": "display_data"
    },
    {
     "name": "stdout",
     "output_type": "stream",
     "text": [
      "\n",
      "              precision    recall  f1-score   support\n",
      "\n",
      "       Stays       0.94      0.85      0.89      2389\n",
      "       Exits       0.58      0.80      0.67       611\n",
      "\n",
      "    accuracy                           0.84      3000\n",
      "   macro avg       0.76      0.82      0.78      3000\n",
      "weighted avg       0.87      0.84      0.85      3000\n",
      "\n",
      "\n",
      "\t Logistic Regression\n",
      "\t ===================\n"
     ]
    },
    {
     "name": "stderr",
     "output_type": "stream",
     "text": [
      "c:\\Users\\mkahs\\Repository\\Nishat_CHURN\\.venv\\lib\\site-packages\\sklearn\\base.py:458: UserWarning: X has feature names, but LogisticRegression was fitted without feature names\n",
      "  warnings.warn(\n"
     ]
    },
    {
     "data": {
      "text/html": [
       "<div>\n",
       "<style scoped>\n",
       "    .dataframe tbody tr th:only-of-type {\n",
       "        vertical-align: middle;\n",
       "    }\n",
       "\n",
       "    .dataframe tbody tr th {\n",
       "        vertical-align: top;\n",
       "    }\n",
       "\n",
       "    .dataframe thead th {\n",
       "        text-align: right;\n",
       "    }\n",
       "</style>\n",
       "<table border=\"1\" class=\"dataframe\">\n",
       "  <thead>\n",
       "    <tr style=\"text-align: right;\">\n",
       "      <th>Predicted Labels</th>\n",
       "      <th>Stays</th>\n",
       "      <th>Exits</th>\n",
       "    </tr>\n",
       "    <tr>\n",
       "      <th>True Labels</th>\n",
       "      <th></th>\n",
       "      <th></th>\n",
       "    </tr>\n",
       "  </thead>\n",
       "  <tbody>\n",
       "    <tr>\n",
       "      <th>Stays</th>\n",
       "      <td>1551</td>\n",
       "      <td>838</td>\n",
       "    </tr>\n",
       "    <tr>\n",
       "      <th>Exits</th>\n",
       "      <td>217</td>\n",
       "      <td>394</td>\n",
       "    </tr>\n",
       "  </tbody>\n",
       "</table>\n",
       "</div>"
      ],
      "text/plain": [
       "Predicted Labels  Stays  Exits\n",
       "True Labels                   \n",
       "Stays              1551    838\n",
       "Exits               217    394"
      ]
     },
     "metadata": {},
     "output_type": "display_data"
    },
    {
     "name": "stdout",
     "output_type": "stream",
     "text": [
      "\n",
      "              precision    recall  f1-score   support\n",
      "\n",
      "       Stays       0.88      0.65      0.75      2389\n",
      "       Exits       0.32      0.64      0.43       611\n",
      "\n",
      "    accuracy                           0.65      3000\n",
      "   macro avg       0.60      0.65      0.59      3000\n",
      "weighted avg       0.76      0.65      0.68      3000\n",
      "\n",
      "\n",
      "\t Random Forest\n",
      "\t =============\n"
     ]
    },
    {
     "name": "stderr",
     "output_type": "stream",
     "text": [
      "c:\\Users\\mkahs\\Repository\\Nishat_CHURN\\.venv\\lib\\site-packages\\sklearn\\base.py:458: UserWarning: X has feature names, but RandomForestClassifier was fitted without feature names\n",
      "  warnings.warn(\n"
     ]
    },
    {
     "data": {
      "text/html": [
       "<div>\n",
       "<style scoped>\n",
       "    .dataframe tbody tr th:only-of-type {\n",
       "        vertical-align: middle;\n",
       "    }\n",
       "\n",
       "    .dataframe tbody tr th {\n",
       "        vertical-align: top;\n",
       "    }\n",
       "\n",
       "    .dataframe thead th {\n",
       "        text-align: right;\n",
       "    }\n",
       "</style>\n",
       "<table border=\"1\" class=\"dataframe\">\n",
       "  <thead>\n",
       "    <tr style=\"text-align: right;\">\n",
       "      <th>Predicted Labels</th>\n",
       "      <th>Stays</th>\n",
       "      <th>Exits</th>\n",
       "    </tr>\n",
       "    <tr>\n",
       "      <th>True Labels</th>\n",
       "      <th></th>\n",
       "      <th></th>\n",
       "    </tr>\n",
       "  </thead>\n",
       "  <tbody>\n",
       "    <tr>\n",
       "      <th>Stays</th>\n",
       "      <td>2033</td>\n",
       "      <td>356</td>\n",
       "    </tr>\n",
       "    <tr>\n",
       "      <th>Exits</th>\n",
       "      <td>72</td>\n",
       "      <td>539</td>\n",
       "    </tr>\n",
       "  </tbody>\n",
       "</table>\n",
       "</div>"
      ],
      "text/plain": [
       "Predicted Labels  Stays  Exits\n",
       "True Labels                   \n",
       "Stays              2033    356\n",
       "Exits                72    539"
      ]
     },
     "metadata": {},
     "output_type": "display_data"
    },
    {
     "name": "stdout",
     "output_type": "stream",
     "text": [
      "\n",
      "              precision    recall  f1-score   support\n",
      "\n",
      "       Stays       0.97      0.85      0.90      2389\n",
      "       Exits       0.60      0.88      0.72       611\n",
      "\n",
      "    accuracy                           0.86      3000\n",
      "   macro avg       0.78      0.87      0.81      3000\n",
      "weighted avg       0.89      0.86      0.87      3000\n",
      "\n",
      "\n",
      "\t AdaBoostClassifier\n",
      "\t ==================\n"
     ]
    },
    {
     "name": "stderr",
     "output_type": "stream",
     "text": [
      "c:\\Users\\mkahs\\Repository\\Nishat_CHURN\\.venv\\lib\\site-packages\\sklearn\\base.py:458: UserWarning: X has feature names, but AdaBoostClassifier was fitted without feature names\n",
      "  warnings.warn(\n"
     ]
    },
    {
     "data": {
      "text/html": [
       "<div>\n",
       "<style scoped>\n",
       "    .dataframe tbody tr th:only-of-type {\n",
       "        vertical-align: middle;\n",
       "    }\n",
       "\n",
       "    .dataframe tbody tr th {\n",
       "        vertical-align: top;\n",
       "    }\n",
       "\n",
       "    .dataframe thead th {\n",
       "        text-align: right;\n",
       "    }\n",
       "</style>\n",
       "<table border=\"1\" class=\"dataframe\">\n",
       "  <thead>\n",
       "    <tr style=\"text-align: right;\">\n",
       "      <th>Predicted Labels</th>\n",
       "      <th>Stays</th>\n",
       "      <th>Exits</th>\n",
       "    </tr>\n",
       "    <tr>\n",
       "      <th>True Labels</th>\n",
       "      <th></th>\n",
       "      <th></th>\n",
       "    </tr>\n",
       "  </thead>\n",
       "  <tbody>\n",
       "    <tr>\n",
       "      <th>Stays</th>\n",
       "      <td>1938</td>\n",
       "      <td>451</td>\n",
       "    </tr>\n",
       "    <tr>\n",
       "      <th>Exits</th>\n",
       "      <td>188</td>\n",
       "      <td>423</td>\n",
       "    </tr>\n",
       "  </tbody>\n",
       "</table>\n",
       "</div>"
      ],
      "text/plain": [
       "Predicted Labels  Stays  Exits\n",
       "True Labels                   \n",
       "Stays              1938    451\n",
       "Exits               188    423"
      ]
     },
     "metadata": {},
     "output_type": "display_data"
    },
    {
     "name": "stdout",
     "output_type": "stream",
     "text": [
      "\n",
      "              precision    recall  f1-score   support\n",
      "\n",
      "       Stays       0.91      0.81      0.86      2389\n",
      "       Exits       0.48      0.69      0.57       611\n",
      "\n",
      "    accuracy                           0.79      3000\n",
      "   macro avg       0.70      0.75      0.71      3000\n",
      "weighted avg       0.82      0.79      0.80      3000\n",
      "\n",
      "\n",
      "\t XGBoost\n",
      "\t =======\n"
     ]
    },
    {
     "data": {
      "text/html": [
       "<div>\n",
       "<style scoped>\n",
       "    .dataframe tbody tr th:only-of-type {\n",
       "        vertical-align: middle;\n",
       "    }\n",
       "\n",
       "    .dataframe tbody tr th {\n",
       "        vertical-align: top;\n",
       "    }\n",
       "\n",
       "    .dataframe thead th {\n",
       "        text-align: right;\n",
       "    }\n",
       "</style>\n",
       "<table border=\"1\" class=\"dataframe\">\n",
       "  <thead>\n",
       "    <tr style=\"text-align: right;\">\n",
       "      <th>Predicted Labels</th>\n",
       "      <th>Stays</th>\n",
       "      <th>Exits</th>\n",
       "    </tr>\n",
       "    <tr>\n",
       "      <th>True Labels</th>\n",
       "      <th></th>\n",
       "      <th></th>\n",
       "    </tr>\n",
       "  </thead>\n",
       "  <tbody>\n",
       "    <tr>\n",
       "      <th>Stays</th>\n",
       "      <td>2013</td>\n",
       "      <td>376</td>\n",
       "    </tr>\n",
       "    <tr>\n",
       "      <th>Exits</th>\n",
       "      <td>127</td>\n",
       "      <td>484</td>\n",
       "    </tr>\n",
       "  </tbody>\n",
       "</table>\n",
       "</div>"
      ],
      "text/plain": [
       "Predicted Labels  Stays  Exits\n",
       "True Labels                   \n",
       "Stays              2013    376\n",
       "Exits               127    484"
      ]
     },
     "metadata": {},
     "output_type": "display_data"
    },
    {
     "name": "stdout",
     "output_type": "stream",
     "text": [
      "\n",
      "              precision    recall  f1-score   support\n",
      "\n",
      "       Stays       0.94      0.84      0.89      2389\n",
      "       Exits       0.56      0.79      0.66       611\n",
      "\n",
      "    accuracy                           0.83      3000\n",
      "   macro avg       0.75      0.82      0.77      3000\n",
      "weighted avg       0.86      0.83      0.84      3000\n",
      "\n",
      "\n",
      "\t Deep Learning\n",
      "\t =============\n"
     ]
    },
    {
     "data": {
      "text/html": [
       "<div>\n",
       "<style scoped>\n",
       "    .dataframe tbody tr th:only-of-type {\n",
       "        vertical-align: middle;\n",
       "    }\n",
       "\n",
       "    .dataframe tbody tr th {\n",
       "        vertical-align: top;\n",
       "    }\n",
       "\n",
       "    .dataframe thead th {\n",
       "        text-align: right;\n",
       "    }\n",
       "</style>\n",
       "<table border=\"1\" class=\"dataframe\">\n",
       "  <thead>\n",
       "    <tr style=\"text-align: right;\">\n",
       "      <th>Predicted Labels</th>\n",
       "      <th>Stays</th>\n",
       "      <th>Exits</th>\n",
       "    </tr>\n",
       "    <tr>\n",
       "      <th>True Labels</th>\n",
       "      <th></th>\n",
       "      <th></th>\n",
       "    </tr>\n",
       "  </thead>\n",
       "  <tbody>\n",
       "    <tr>\n",
       "      <th>Stays</th>\n",
       "      <td>1740</td>\n",
       "      <td>649</td>\n",
       "    </tr>\n",
       "    <tr>\n",
       "      <th>Exits</th>\n",
       "      <td>401</td>\n",
       "      <td>210</td>\n",
       "    </tr>\n",
       "  </tbody>\n",
       "</table>\n",
       "</div>"
      ],
      "text/plain": [
       "Predicted Labels  Stays  Exits\n",
       "True Labels                   \n",
       "Stays              1740    649\n",
       "Exits               401    210"
      ]
     },
     "metadata": {},
     "output_type": "display_data"
    },
    {
     "name": "stdout",
     "output_type": "stream",
     "text": [
      "\n",
      "              precision    recall  f1-score   support\n",
      "\n",
      "       Stays       0.81      0.73      0.77      2389\n",
      "       Exits       0.24      0.34      0.29       611\n",
      "\n",
      "    accuracy                           0.65      3000\n",
      "   macro avg       0.53      0.54      0.53      3000\n",
      "weighted avg       0.70      0.65      0.67      3000\n",
      "\n"
     ]
    }
   ],
   "source": [
    "for model in models.keys():\n",
    "    class_rep_cm(loaded_models, models, model)"
   ]
  },
  {
   "cell_type": "code",
   "execution_count": 20,
   "metadata": {},
   "outputs": [
    {
     "name": "stderr",
     "output_type": "stream",
     "text": [
      "c:\\Users\\mkahs\\Repository\\Nishat_CHURN\\.venv\\lib\\site-packages\\sklearn\\base.py:458: UserWarning: X has feature names, but LogisticRegression was fitted without feature names\n",
      "  warnings.warn(\n",
      "c:\\Users\\mkahs\\Repository\\Nishat_CHURN\\.venv\\lib\\site-packages\\sklearn\\base.py:458: UserWarning: X has feature names, but RandomForestClassifier was fitted without feature names\n",
      "  warnings.warn(\n",
      "c:\\Users\\mkahs\\Repository\\Nishat_CHURN\\.venv\\lib\\site-packages\\sklearn\\base.py:458: UserWarning: X has feature names, but AdaBoostClassifier was fitted without feature names\n",
      "  warnings.warn(\n"
     ]
    },
    {
     "data": {
      "image/png": "[encoded data removed]",
      "text/plain": [
       "<Figure size 1000x1200 with 6 Axes>"
      ]
     },
     "metadata": {},
     "output_type": "display_data"
    }
   ],
   "source": [
    "# Plot all confusion matrices \n",
    "plot_norm_conf_matrices(loaded_models, models, 'Reds')"
   ]
  },
  {
   "cell_type": "code",
   "execution_count": null,
   "metadata": {},
   "outputs": [],
   "source": []
  },
  {
   "cell_type": "code",
   "execution_count": null,
   "metadata": {},
   "outputs": [],
   "source": []
  }
 ],
 "metadata": {
  "kernelspec": {
   "display_name": ".venv",
   "language": "python",
   "name": "python3"
  },
  "language_info": {
   "codemirror_mode": {
    "name": "ipython",
    "version": 3
   },
   "file_extension": ".py",
   "mimetype": "text/x-python",
   "name": "python",
   "nbconvert_exporter": "python",
   "pygments_lexer": "ipython3",
   "version": "3.9.7"
  }
 },
 "nbformat": 4,
 "nbformat_minor": 2
}
